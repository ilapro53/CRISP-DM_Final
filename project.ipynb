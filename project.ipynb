{
 "cells": [
  {
   "cell_type": "code",
   "execution_count": 42,
   "metadata": {
    "collapsed": true
   },
   "outputs": [],
   "source": [
    "import pickle\n",
    "import pandas as pd\n",
    "import missingno as msno\n",
    "import matplotlib.pyplot as plt\n",
    "\n",
    "from sklearn.metrics import accuracy_score\n",
    "from sklearn.model_selection import train_test_split, cross_val_score\n",
    "from sklearn.preprocessing import OneHotEncoder, StandardScaler\n",
    "from sklearn.linear_model import LogisticRegression\n",
    "from sklearn.ensemble import RandomForestClassifier\n",
    "from sklearn.neural_network import MLPClassifier"
   ]
  },
  {
   "cell_type": "code",
   "execution_count": 43,
   "outputs": [
    {
     "name": "stdout",
     "output_type": "stream",
     "text": [
      "(10000, 20)\n"
     ]
    },
    {
     "data": {
      "text/plain": "           id                                                url  \\\n0  7308295377  https://chattanooga.craigslist.org/ctd/d/chatt...   \n1  7316380095  https://newjersey.craigslist.org/ctd/d/carlsta...   \n2  7313733749  https://reno.craigslist.org/ctd/d/atlanta-2017...   \n3  7308210929  https://fayetteville.craigslist.org/ctd/d/rale...   \n4  7316474668  https://newyork.craigslist.org/lgi/cto/d/baldw...   \n\n          region                           region_url  price    year  \\\n0    chattanooga   https://chattanooga.craigslist.org  54990  2020.0   \n1   north jersey     https://newjersey.craigslist.org  16942  2016.0   \n2   reno / tahoe          https://reno.craigslist.org  35590  2017.0   \n3   fayetteville  https://fayetteville.craigslist.org  14500  2013.0   \n4  new york city       https://newyork.craigslist.org  21800  2021.0   \n\n  manufacturer                   model    fuel  odometer title_status  \\\n0          ram  2500 crew cab big horn  diesel     27442        clean   \n1         ford    explorer 4wd 4dr xlt     NaN     60023        clean   \n2   volkswagen        golf r hatchback     gas     14048        clean   \n3       toyota                    rav4     gas    117291        clean   \n4       nissan                  altima     gas      8000        clean   \n\n  transmission                                          image_url  \\\n0        other  https://images.craigslist.org/00N0N_1xMPvfxRAI...   \n1    automatic  https://images.craigslist.org/00x0x_26jl9F0cnL...   \n2        other  https://images.craigslist.org/00y0y_eeZjWeiSfb...   \n3    automatic  https://images.craigslist.org/00606_iGe5iXidib...   \n4    automatic  https://images.craigslist.org/00V0V_3pSOiPZ3Sd...   \n\n                                         description state        lat  \\\n0  Carvana is the safer way to buy a car During t...    tn  35.060000   \n1  ***Call Us for more information at: 201-635-14...    nj  40.821805   \n2  Carvana is the safer way to buy a car During t...    ca  33.779214   \n3  2013 Toyota RAV4 XLE 4dr SUV     Offered by: R...    nc  35.715954   \n4  2021 Nissan Altima Sv with Only 8 K Miles Titl...    ny  40.654800   \n\n        long              posting_date price_category  \\\n0 -85.250000  2021-04-17T12:30:50-0400           high   \n1 -74.061962  2021-05-03T15:40:21-0400         medium   \n2 -84.411811  2021-04-28T03:52:20-0700           high   \n3 -78.655304  2021-04-17T10:08:57-0400         medium   \n4 -73.609700  2021-05-03T18:32:06-0400         medium   \n\n                        date  \n0  2021-04-17 16:30:50+00:00  \n1  2021-05-03 19:40:21+00:00  \n2  2021-04-28 10:52:20+00:00  \n3  2021-04-17 14:08:57+00:00  \n4  2021-05-03 22:32:06+00:00  ",
      "text/html": "<div>\n<style scoped>\n    .dataframe tbody tr th:only-of-type {\n        vertical-align: middle;\n    }\n\n    .dataframe tbody tr th {\n        vertical-align: top;\n    }\n\n    .dataframe thead th {\n        text-align: right;\n    }\n</style>\n<table border=\"1\" class=\"dataframe\">\n  <thead>\n    <tr style=\"text-align: right;\">\n      <th></th>\n      <th>id</th>\n      <th>url</th>\n      <th>region</th>\n      <th>region_url</th>\n      <th>price</th>\n      <th>year</th>\n      <th>manufacturer</th>\n      <th>model</th>\n      <th>fuel</th>\n      <th>odometer</th>\n      <th>title_status</th>\n      <th>transmission</th>\n      <th>image_url</th>\n      <th>description</th>\n      <th>state</th>\n      <th>lat</th>\n      <th>long</th>\n      <th>posting_date</th>\n      <th>price_category</th>\n      <th>date</th>\n    </tr>\n  </thead>\n  <tbody>\n    <tr>\n      <th>0</th>\n      <td>7308295377</td>\n      <td>https://chattanooga.craigslist.org/ctd/d/chatt...</td>\n      <td>chattanooga</td>\n      <td>https://chattanooga.craigslist.org</td>\n      <td>54990</td>\n      <td>2020.0</td>\n      <td>ram</td>\n      <td>2500 crew cab big horn</td>\n      <td>diesel</td>\n      <td>27442</td>\n      <td>clean</td>\n      <td>other</td>\n      <td>https://images.craigslist.org/00N0N_1xMPvfxRAI...</td>\n      <td>Carvana is the safer way to buy a car During t...</td>\n      <td>tn</td>\n      <td>35.060000</td>\n      <td>-85.250000</td>\n      <td>2021-04-17T12:30:50-0400</td>\n      <td>high</td>\n      <td>2021-04-17 16:30:50+00:00</td>\n    </tr>\n    <tr>\n      <th>1</th>\n      <td>7316380095</td>\n      <td>https://newjersey.craigslist.org/ctd/d/carlsta...</td>\n      <td>north jersey</td>\n      <td>https://newjersey.craigslist.org</td>\n      <td>16942</td>\n      <td>2016.0</td>\n      <td>ford</td>\n      <td>explorer 4wd 4dr xlt</td>\n      <td>NaN</td>\n      <td>60023</td>\n      <td>clean</td>\n      <td>automatic</td>\n      <td>https://images.craigslist.org/00x0x_26jl9F0cnL...</td>\n      <td>***Call Us for more information at: 201-635-14...</td>\n      <td>nj</td>\n      <td>40.821805</td>\n      <td>-74.061962</td>\n      <td>2021-05-03T15:40:21-0400</td>\n      <td>medium</td>\n      <td>2021-05-03 19:40:21+00:00</td>\n    </tr>\n    <tr>\n      <th>2</th>\n      <td>7313733749</td>\n      <td>https://reno.craigslist.org/ctd/d/atlanta-2017...</td>\n      <td>reno / tahoe</td>\n      <td>https://reno.craigslist.org</td>\n      <td>35590</td>\n      <td>2017.0</td>\n      <td>volkswagen</td>\n      <td>golf r hatchback</td>\n      <td>gas</td>\n      <td>14048</td>\n      <td>clean</td>\n      <td>other</td>\n      <td>https://images.craigslist.org/00y0y_eeZjWeiSfb...</td>\n      <td>Carvana is the safer way to buy a car During t...</td>\n      <td>ca</td>\n      <td>33.779214</td>\n      <td>-84.411811</td>\n      <td>2021-04-28T03:52:20-0700</td>\n      <td>high</td>\n      <td>2021-04-28 10:52:20+00:00</td>\n    </tr>\n    <tr>\n      <th>3</th>\n      <td>7308210929</td>\n      <td>https://fayetteville.craigslist.org/ctd/d/rale...</td>\n      <td>fayetteville</td>\n      <td>https://fayetteville.craigslist.org</td>\n      <td>14500</td>\n      <td>2013.0</td>\n      <td>toyota</td>\n      <td>rav4</td>\n      <td>gas</td>\n      <td>117291</td>\n      <td>clean</td>\n      <td>automatic</td>\n      <td>https://images.craigslist.org/00606_iGe5iXidib...</td>\n      <td>2013 Toyota RAV4 XLE 4dr SUV     Offered by: R...</td>\n      <td>nc</td>\n      <td>35.715954</td>\n      <td>-78.655304</td>\n      <td>2021-04-17T10:08:57-0400</td>\n      <td>medium</td>\n      <td>2021-04-17 14:08:57+00:00</td>\n    </tr>\n    <tr>\n      <th>4</th>\n      <td>7316474668</td>\n      <td>https://newyork.craigslist.org/lgi/cto/d/baldw...</td>\n      <td>new york city</td>\n      <td>https://newyork.craigslist.org</td>\n      <td>21800</td>\n      <td>2021.0</td>\n      <td>nissan</td>\n      <td>altima</td>\n      <td>gas</td>\n      <td>8000</td>\n      <td>clean</td>\n      <td>automatic</td>\n      <td>https://images.craigslist.org/00V0V_3pSOiPZ3Sd...</td>\n      <td>2021 Nissan Altima Sv with Only 8 K Miles Titl...</td>\n      <td>ny</td>\n      <td>40.654800</td>\n      <td>-73.609700</td>\n      <td>2021-05-03T18:32:06-0400</td>\n      <td>medium</td>\n      <td>2021-05-03 22:32:06+00:00</td>\n    </tr>\n  </tbody>\n</table>\n</div>"
     },
     "execution_count": 43,
     "metadata": {},
     "output_type": "execute_result"
    }
   ],
   "source": [
    "df_orig = pd.read_csv('df_out.csv')\n",
    "df = df_orig\n",
    "print(df.shape)\n",
    "df.head()"
   ],
   "metadata": {
    "collapsed": false
   }
  },
  {
   "cell_type": "markdown",
   "source": [
    "# 1 Data Preparation\n",
    "\n",
    "## 1.1 Обработка пропусков"
   ],
   "metadata": {
    "collapsed": false
   }
  },
  {
   "cell_type": "code",
   "execution_count": 44,
   "outputs": [
    {
     "data": {
      "text/plain": "id                  0\nurl                 0\nregion              0\nregion_url          0\nprice               0\nyear               36\nmanufacturer        0\nmodel             128\nfuel               63\nodometer            0\ntitle_status      166\ntransmission       45\nimage_url           2\ndescription         2\nstate               0\nlat                98\nlong               98\nposting_date        2\nprice_category      0\ndate                2\ndtype: int64"
     },
     "execution_count": 44,
     "metadata": {},
     "output_type": "execute_result"
    }
   ],
   "source": [
    "# Посчитаем кол-во пропусков в каждом признаке\n",
    "df.isna().sum()"
   ],
   "metadata": {
    "collapsed": false
   }
  },
  {
   "cell_type": "code",
   "execution_count": 45,
   "outputs": [
    {
     "data": {
      "text/plain": "<AxesSubplot:>"
     },
     "execution_count": 45,
     "metadata": {},
     "output_type": "execute_result"
    },
    {
     "data": {
      "text/plain": "<Figure size 1800x720 with 2 Axes>",
      "image/png": "[encoded data removed]"
     },
     "metadata": {
      "needs_background": "light"
     },
     "output_type": "display_data"
    }
   ],
   "source": [
    "# Посмотрим на матрицу пропусков\n",
    "msno.matrix(df)"
   ],
   "metadata": {
    "collapsed": false
   }
  },
  {
   "cell_type": "code",
   "execution_count": 46,
   "outputs": [
    {
     "data": {
      "text/plain": "id                0.00\nstate             0.00\nprice_category    0.00\nmanufacturer      0.00\nodometer          0.00\nregion_url        0.00\nregion            0.00\nurl               0.00\nprice             0.00\nimage_url         0.02\ndescription       0.02\nposting_date      0.02\ndate              0.02\nyear              0.36\ntransmission      0.45\nfuel              0.63\nlat               0.98\nlong              0.98\nmodel             1.28\ntitle_status      1.66\ndtype: float64"
     },
     "execution_count": 46,
     "metadata": {},
     "output_type": "execute_result"
    }
   ],
   "source": [
    "# Посчитаем процент пропусков в каждом признаке\n",
    "missing_values = ((df.isna().sum() / len(df)) * 100).sort_values()\n",
    "missing_values"
   ],
   "metadata": {
    "collapsed": false
   }
  },
  {
   "cell_type": "code",
   "execution_count": 47,
   "outputs": [],
   "source": [
    "# Заполним пропуски в колонке year медианным значением\n",
    "df.year = df.year.fillna(df.year.median())"
   ],
   "metadata": {
    "collapsed": false
   }
  },
  {
   "cell_type": "code",
   "execution_count": 48,
   "outputs": [],
   "source": [
    "# Заполним пропуски в колонке model значением other\n",
    "df.model = df.model.fillna('other')"
   ],
   "metadata": {
    "collapsed": false
   }
  },
  {
   "cell_type": "code",
   "execution_count": 49,
   "outputs": [],
   "source": [
    "# Заполним пропуски в колонке fuel значением unknown\n",
    "df.fuel = df.fuel.fillna('unknown')"
   ],
   "metadata": {
    "collapsed": false
   }
  },
  {
   "cell_type": "code",
   "execution_count": 50,
   "outputs": [],
   "source": [
    "# Заполним пропуски в колонке title_status самым популярным значением\n",
    "df.title_status = df.title_status.fillna(df.title_status.value_counts().index[0])"
   ],
   "metadata": {
    "collapsed": false
   }
  },
  {
   "cell_type": "code",
   "execution_count": 51,
   "outputs": [],
   "source": [
    "# Заполним пропуски в колонке transmission значением other\n",
    "df.transmission = df.transmission.fillna('other')"
   ],
   "metadata": {
    "collapsed": false
   }
  },
  {
   "cell_type": "code",
   "execution_count": 52,
   "outputs": [],
   "source": [
    "# Удалим строки с другими пропусками\n",
    "df = df.dropna()"
   ],
   "metadata": {
    "collapsed": false
   }
  },
  {
   "cell_type": "code",
   "execution_count": 53,
   "outputs": [
    {
     "name": "stdout",
     "output_type": "stream",
     "text": [
      "(9902, 20)\n"
     ]
    },
    {
     "data": {
      "text/plain": "id                0\nurl               0\nregion            0\nregion_url        0\nprice             0\nyear              0\nmanufacturer      0\nmodel             0\nfuel              0\nodometer          0\ntitle_status      0\ntransmission      0\nimage_url         0\ndescription       0\nstate             0\nlat               0\nlong              0\nposting_date      0\nprice_category    0\ndate              0\ndtype: int64"
     },
     "execution_count": 53,
     "metadata": {},
     "output_type": "execute_result"
    }
   ],
   "source": [
    "# Проверим данные\n",
    "print(df.shape)\n",
    "df.isna().sum()"
   ],
   "metadata": {
    "collapsed": false
   }
  },
  {
   "cell_type": "markdown",
   "source": [
    "## 1.2 Преобразование типов"
   ],
   "metadata": {
    "collapsed": false
   }
  },
  {
   "cell_type": "code",
   "execution_count": 54,
   "outputs": [
    {
     "data": {
      "text/plain": "id                  int64\nurl                object\nregion             object\nregion_url         object\nprice               int64\nyear              float64\nmanufacturer       object\nmodel              object\nfuel               object\nodometer            int64\ntitle_status       object\ntransmission       object\nimage_url          object\ndescription        object\nstate              object\nlat               float64\nlong              float64\nposting_date       object\nprice_category     object\ndate               object\ndtype: object"
     },
     "execution_count": 54,
     "metadata": {},
     "output_type": "execute_result"
    }
   ],
   "source": [
    "df.dtypes"
   ],
   "metadata": {
    "collapsed": false
   }
  },
  {
   "cell_type": "code",
   "execution_count": 55,
   "outputs": [
    {
     "name": "stderr",
     "output_type": "stream",
     "text": [
      "C:\\Users\\ilapr\\anaconda3\\lib\\site-packages\\pandas\\core\\generic.py:5516: SettingWithCopyWarning: \n",
      "A value is trying to be set on a copy of a slice from a DataFrame.\n",
      "Try using .loc[row_indexer,col_indexer] = value instead\n",
      "\n",
      "See the caveats in the documentation: https://pandas.pydata.org/pandas-docs/stable/user_guide/indexing.html#returning-a-view-versus-a-copy\n",
      "  self[name] = value\n"
     ]
    }
   ],
   "source": [
    "# Преобразуем колонку year в тип int\n",
    "df.year = df.year.astype(int)"
   ],
   "metadata": {
    "collapsed": false
   }
  },
  {
   "cell_type": "code",
   "execution_count": 56,
   "outputs": [],
   "source": [
    "# преобразуем колонку date в тип datetime\n",
    "df.date = pd.to_datetime(df.date, utc=True)"
   ],
   "metadata": {
    "collapsed": false
   }
  },
  {
   "cell_type": "code",
   "execution_count": 57,
   "outputs": [],
   "source": [
    "# преобразован колонку posting_date в тип datetime\n",
    "df.posting_date = pd.to_datetime(df.posting_date, utc=True)"
   ],
   "metadata": {
    "collapsed": false
   }
  },
  {
   "cell_type": "code",
   "execution_count": 58,
   "outputs": [
    {
     "data": {
      "text/plain": "id                              int64\nurl                            object\nregion                         object\nregion_url                     object\nprice                           int64\nyear                            int32\nmanufacturer                   object\nmodel                          object\nfuel                           object\nodometer                        int64\ntitle_status                   object\ntransmission                   object\nimage_url                      object\ndescription                    object\nstate                          object\nlat                           float64\nlong                          float64\nposting_date      datetime64[ns, UTC]\nprice_category                 object\ndate              datetime64[ns, UTC]\ndtype: object"
     },
     "execution_count": 58,
     "metadata": {},
     "output_type": "execute_result"
    }
   ],
   "source": [
    "df.dtypes"
   ],
   "metadata": {
    "collapsed": false
   }
  },
  {
   "cell_type": "markdown",
   "source": [
    "## 1.3 Обработка выбросов"
   ],
   "metadata": {
    "collapsed": false
   }
  },
  {
   "cell_type": "code",
   "execution_count": 59,
   "outputs": [
    {
     "data": {
      "text/plain": "                 id        price     year   odometer      lat     long\ncount  9.902000e+03      9902.00  9902.00    9902.00  9902.00  9902.00\nmean   7.311556e+09     20684.20  2010.92   93380.18    38.59   -94.17\nstd    4.361977e+06    125234.37     9.69   63322.53     5.84    18.13\nmin    7.301586e+09       500.00  1915.00       0.00   -67.14  -158.07\n25%    7.308184e+09      7880.00  2008.00   39003.25    34.83  -110.32\n50%    7.312775e+09     15592.50  2013.00   89000.00    39.30   -88.00\n75%    7.315285e+09     27990.00  2017.00  137000.00    42.43   -80.83\nmax    7.317090e+09  12345678.00  2022.00  283466.00    64.95   173.89",
      "text/html": "<div>\n<style scoped>\n    .dataframe tbody tr th:only-of-type {\n        vertical-align: middle;\n    }\n\n    .dataframe tbody tr th {\n        vertical-align: top;\n    }\n\n    .dataframe thead th {\n        text-align: right;\n    }\n</style>\n<table border=\"1\" class=\"dataframe\">\n  <thead>\n    <tr style=\"text-align: right;\">\n      <th></th>\n      <th>id</th>\n      <th>price</th>\n      <th>year</th>\n      <th>odometer</th>\n      <th>lat</th>\n      <th>long</th>\n    </tr>\n  </thead>\n  <tbody>\n    <tr>\n      <th>count</th>\n      <td>9.902000e+03</td>\n      <td>9902.00</td>\n      <td>9902.00</td>\n      <td>9902.00</td>\n      <td>9902.00</td>\n      <td>9902.00</td>\n    </tr>\n    <tr>\n      <th>mean</th>\n      <td>7.311556e+09</td>\n      <td>20684.20</td>\n      <td>2010.92</td>\n      <td>93380.18</td>\n      <td>38.59</td>\n      <td>-94.17</td>\n    </tr>\n    <tr>\n      <th>std</th>\n      <td>4.361977e+06</td>\n      <td>125234.37</td>\n      <td>9.69</td>\n      <td>63322.53</td>\n      <td>5.84</td>\n      <td>18.13</td>\n    </tr>\n    <tr>\n      <th>min</th>\n      <td>7.301586e+09</td>\n      <td>500.00</td>\n      <td>1915.00</td>\n      <td>0.00</td>\n      <td>-67.14</td>\n      <td>-158.07</td>\n    </tr>\n    <tr>\n      <th>25%</th>\n      <td>7.308184e+09</td>\n      <td>7880.00</td>\n      <td>2008.00</td>\n      <td>39003.25</td>\n      <td>34.83</td>\n      <td>-110.32</td>\n    </tr>\n    <tr>\n      <th>50%</th>\n      <td>7.312775e+09</td>\n      <td>15592.50</td>\n      <td>2013.00</td>\n      <td>89000.00</td>\n      <td>39.30</td>\n      <td>-88.00</td>\n    </tr>\n    <tr>\n      <th>75%</th>\n      <td>7.315285e+09</td>\n      <td>27990.00</td>\n      <td>2017.00</td>\n      <td>137000.00</td>\n      <td>42.43</td>\n      <td>-80.83</td>\n    </tr>\n    <tr>\n      <th>max</th>\n      <td>7.317090e+09</td>\n      <td>12345678.00</td>\n      <td>2022.00</td>\n      <td>283466.00</td>\n      <td>64.95</td>\n      <td>173.89</td>\n    </tr>\n  </tbody>\n</table>\n</div>"
     },
     "execution_count": 59,
     "metadata": {},
     "output_type": "execute_result"
    }
   ],
   "source": [
    "df.describe().apply(lambda x: round(x, 2))"
   ],
   "metadata": {
    "collapsed": false
   }
  },
  {
   "cell_type": "code",
   "execution_count": 60,
   "outputs": [],
   "source": [
    "# Создадим функцию для определения границы выбросов\n",
    "# в нормально распределенной выборке\n",
    "def calculate_outliers(data):\n",
    "    q25 = data.quantile(0.25)\n",
    "    q75 = data.quantile(0.75)\n",
    "    iqr = q75 - q25\n",
    "    boundaries = (\n",
    "        q25 - 1.5 * iqr,\n",
    "        q75 + 1.5 * iqr\n",
    "    )\n",
    "    return boundaries"
   ],
   "metadata": {
    "collapsed": false
   }
  },
  {
   "cell_type": "markdown",
   "source": [
    "### 1.3.1 Обработка выбросов широты"
   ],
   "metadata": {
    "collapsed": false
   }
  },
  {
   "cell_type": "code",
   "execution_count": 61,
   "outputs": [
    {
     "data": {
      "text/plain": "<Figure size 1008x720 with 2 Axes>",
      "image/png": "[encoded data removed]"
     },
     "metadata": {
      "needs_background": "light"
     },
     "output_type": "display_data"
    }
   ],
   "source": [
    "# Построим гистограмму распределения и ящик с усами для широты\n",
    "fig, (ax1, ax2) = plt.subplots(nrows=2, ncols=1, figsize=(14, 10), sharex=True)\n",
    "\n",
    "ax1.hist(df.lat, bins=100, color='deepskyblue')\n",
    "ax1.set_title('Гистограмма распределения широты')\n",
    "ax1.set_xlabel('Широта')\n",
    "ax1.set_ylabel('Частота')\n",
    "\n",
    "ax2.boxplot(df.lat, sym='+', vert=False)\n",
    "ax2.set_xlabel('Широта')\n",
    "ax2.set_ylabel('Частота')\n",
    "ax2.set_title('Ящик с усами для широты');"
   ],
   "metadata": {
    "collapsed": false
   }
  },
  {
   "cell_type": "code",
   "execution_count": 62,
   "outputs": [
    {
     "name": "stdout",
     "output_type": "stream",
     "text": [
      "Границы нормальных значений: (23.433815625, 53.824622624999996)\n"
     ]
    }
   ],
   "source": [
    "# Определим границы нормальных значений\n",
    "lat_outl_boundaries = calculate_outliers(df.lat)\n",
    "print('Границы нормальных значений:', lat_outl_boundaries)"
   ],
   "metadata": {
    "collapsed": false
   }
  },
  {
   "cell_type": "code",
   "execution_count": 63,
   "outputs": [
    {
     "name": "stdout",
     "output_type": "stream",
     "text": [
      "Кол-во выбросов: 143\n"
     ]
    }
   ],
   "source": [
    "# Вычислим булеву маску выбросов\n",
    "lat_outliers_bool = (df.lat <= lat_outl_boundaries[0]) | (df.lat >= lat_outl_boundaries[1])\n",
    "print(f'Кол-во выбросов: {lat_outliers_bool.sum()}')"
   ],
   "metadata": {
    "collapsed": false
   }
  },
  {
   "cell_type": "code",
   "execution_count": 64,
   "outputs": [
    {
     "data": {
      "text/plain": "(9759, 20)"
     },
     "execution_count": 64,
     "metadata": {},
     "output_type": "execute_result"
    }
   ],
   "source": [
    "# Удалим выбросы\n",
    "df = df[~lat_outliers_bool]\n",
    "df.shape"
   ],
   "metadata": {
    "collapsed": false
   }
  },
  {
   "cell_type": "code",
   "execution_count": 65,
   "outputs": [
    {
     "data": {
      "text/plain": "<Figure size 1008x720 with 2 Axes>",
      "image/png": "[encoded data removed]"
     },
     "metadata": {
      "needs_background": "light"
     },
     "output_type": "display_data"
    }
   ],
   "source": [
    "# Проверим выбросы на графиках\n",
    "fig, (ax1, ax2) = plt.subplots(nrows=2, ncols=1, figsize=(14, 10), sharex=True)\n",
    "\n",
    "ax1.hist(df.lat, bins=100, color='deepskyblue')\n",
    "ax1.set_title('Гистограмма распределения широты')\n",
    "ax1.set_xlabel('Широта')\n",
    "ax1.set_ylabel('Частота')\n",
    "\n",
    "ax2.boxplot(df.lat, sym='+', vert=False)\n",
    "ax2.set_xlabel('Широта')\n",
    "ax2.set_ylabel('Частота')\n",
    "ax2.set_title('Ящик с усами для широты');"
   ],
   "metadata": {
    "collapsed": false
   }
  },
  {
   "cell_type": "markdown",
   "source": [
    "### 1.3.2 Обработка выбросов долготы"
   ],
   "metadata": {
    "collapsed": false
   }
  },
  {
   "cell_type": "code",
   "execution_count": 66,
   "outputs": [
    {
     "data": {
      "text/plain": "<Figure size 1008x720 with 2 Axes>",
      "image/png": "[encoded data removed]"
     },
     "metadata": {
      "needs_background": "light"
     },
     "output_type": "display_data"
    }
   ],
   "source": [
    "# Построим гистограмму распределения и ящик с усами для долготы\n",
    "fig, (ax1, ax2) = plt.subplots(nrows=2, ncols=1, figsize=(14, 10), sharex=True)\n",
    "\n",
    "ax1.hist(df.long, bins=100, color='orange')\n",
    "ax1.set_title('Гистограмма распределения долготы')\n",
    "ax1.set_xlabel('Долгота')\n",
    "ax1.set_ylabel('Частота')\n",
    "\n",
    "ax2.boxplot(df.long, sym='+', vert=False)\n",
    "ax2.set_xlabel('Долгота')\n",
    "ax2.set_ylabel('Частота')\n",
    "ax2.set_title('Ящик с усами для долготы');"
   ],
   "metadata": {
    "collapsed": false
   }
  },
  {
   "cell_type": "code",
   "execution_count": 67,
   "outputs": [
    {
     "name": "stdout",
     "output_type": "stream",
     "text": [
      "Границы нормальных значений: (-145.468434, -41.87261000000001)\n"
     ]
    }
   ],
   "source": [
    "# Определим границы нормальных значений\n",
    "long_outl_boundaries = calculate_outliers(df.long)\n",
    "print('Границы нормальных значений:', long_outl_boundaries)"
   ],
   "metadata": {
    "collapsed": false
   }
  },
  {
   "cell_type": "code",
   "execution_count": 68,
   "outputs": [
    {
     "name": "stdout",
     "output_type": "stream",
     "text": [
      "Кол-во выбросов: 1\n"
     ]
    }
   ],
   "source": [
    "# Построим булеву маску выбросов\n",
    "long_outliers_bool = (df.long <= long_outl_boundaries[0]) | (df.long >= long_outl_boundaries[1])\n",
    "print(f'Кол-во выбросов: {long_outliers_bool.sum()}')"
   ],
   "metadata": {
    "collapsed": false
   }
  },
  {
   "cell_type": "code",
   "execution_count": 69,
   "outputs": [
    {
     "data": {
      "text/plain": "(9758, 20)"
     },
     "execution_count": 69,
     "metadata": {},
     "output_type": "execute_result"
    }
   ],
   "source": [
    "# Удалим выбросы\n",
    "df = df[~long_outliers_bool]\n",
    "df.shape"
   ],
   "metadata": {
    "collapsed": false
   }
  },
  {
   "cell_type": "code",
   "execution_count": 70,
   "outputs": [
    {
     "data": {
      "text/plain": "<Figure size 1008x720 with 2 Axes>",
      "image/png": "[encoded data removed]"
     },
     "metadata": {
      "needs_background": "light"
     },
     "output_type": "display_data"
    }
   ],
   "source": [
    "# Проверим выбросы на графиках\n",
    "fig, (ax1, ax2) = plt.subplots(nrows=2, ncols=1, figsize=(14, 10), sharex=True)\n",
    "\n",
    "ax1.hist(df.long, bins=100, color='orange')\n",
    "ax1.set_title('Гистограмма распределения долготы')\n",
    "ax1.set_xlabel('Долгота')\n",
    "ax1.set_ylabel('Частота')\n",
    "\n",
    "ax2.boxplot(df.long, sym='+', vert=False)\n",
    "ax2.set_xlabel('Долгота')\n",
    "ax2.set_ylabel('Частота')\n",
    "ax2.set_title('Ящик с усами для долготы');"
   ],
   "metadata": {
    "collapsed": false
   }
  },
  {
   "cell_type": "markdown",
   "source": [
    "### 1.3.3 Обработка выбросов стоимости автомобиля"
   ],
   "metadata": {
    "collapsed": false
   }
  },
  {
   "cell_type": "code",
   "execution_count": 71,
   "outputs": [
    {
     "data": {
      "text/plain": "<Figure size 1008x720 with 2 Axes>",
      "image/png": "[encoded data removed]"
     },
     "metadata": {
      "needs_background": "light"
     },
     "output_type": "display_data"
    }
   ],
   "source": [
    "# Построим гистограмму распределения и ящик с усами для стоимости автомобиля\n",
    "fig, (ax1, ax2) = plt.subplots(nrows=2, ncols=1, figsize=(14, 10), sharex=True)\n",
    "\n",
    "ax1.hist(df.price, bins=100, color='purple')\n",
    "ax1.set_title('Гистограмма распределения стоимости автомобиля')\n",
    "ax1.set_xlabel('Стоимость автомобиля')\n",
    "ax1.set_ylabel('Частота')\n",
    "\n",
    "ax2.boxplot(df.price, sym='+', vert=False)\n",
    "ax2.set_xlabel('Стоимость автомобиля')\n",
    "ax2.set_ylabel('Частота')\n",
    "ax2.set_title('Ящик с усами для стоимости автомобиля');"
   ],
   "metadata": {
    "collapsed": false
   }
  },
  {
   "cell_type": "code",
   "execution_count": 72,
   "outputs": [
    {
     "name": "stdout",
     "output_type": "stream",
     "text": [
      "Границы нормальных значений: (-22485.0, 58275.0)\n"
     ]
    }
   ],
   "source": [
    "# Определим границы нормальных значений\n",
    "price_outl_boundaries = calculate_outliers(df.price)\n",
    "print('Границы нормальных значений:', price_outl_boundaries)"
   ],
   "metadata": {
    "collapsed": false
   }
  },
  {
   "cell_type": "code",
   "execution_count": 73,
   "outputs": [
    {
     "name": "stdout",
     "output_type": "stream",
     "text": [
      "Кол-во выбросов: 211\n"
     ]
    }
   ],
   "source": [
    "# Построим булеву маску выбросов\n",
    "price_outliers_bool = (df.price <= price_outl_boundaries[0]) | (df.price >= price_outl_boundaries[1])\n",
    "print(f'Кол-во выбросов: {price_outliers_bool.sum()}')"
   ],
   "metadata": {
    "collapsed": false
   }
  },
  {
   "cell_type": "code",
   "execution_count": 74,
   "outputs": [
    {
     "data": {
      "text/plain": "(9547, 20)"
     },
     "execution_count": 74,
     "metadata": {},
     "output_type": "execute_result"
    }
   ],
   "source": [
    "# Удалим выбросы\n",
    "df = df[~price_outliers_bool]\n",
    "df.shape"
   ],
   "metadata": {
    "collapsed": false
   }
  },
  {
   "cell_type": "code",
   "execution_count": 75,
   "outputs": [
    {
     "data": {
      "text/plain": "<Figure size 1008x720 with 2 Axes>",
      "image/png": "[encoded data removed]"
     },
     "metadata": {
      "needs_background": "light"
     },
     "output_type": "display_data"
    }
   ],
   "source": [
    "# Проверим выбросы на графиках\n",
    "fig, (ax1, ax2) = plt.subplots(nrows=2, ncols=1, figsize=(14, 10), sharex=True)\n",
    "\n",
    "ax1.hist(df.price, bins=100, color='purple')\n",
    "ax1.set_title('Гистограмма распределения стоимости автомобиля')\n",
    "ax1.set_xlabel('Стоимость автомобиля')\n",
    "ax1.set_ylabel('Частота')\n",
    "\n",
    "ax2.boxplot(df.price, sym='+', vert=False)\n",
    "ax2.set_xlabel('Стоимость автомобиля')\n",
    "ax2.set_ylabel('Частота')\n",
    "ax2.set_title('Ящик с усами для стоимости автомобиля');"
   ],
   "metadata": {
    "collapsed": false
   }
  },
  {
   "cell_type": "markdown",
   "source": [
    "### 1.3.4 Обработка выбросов количества пройденных миль"
   ],
   "metadata": {
    "collapsed": false
   }
  },
  {
   "cell_type": "code",
   "execution_count": 76,
   "outputs": [
    {
     "data": {
      "text/plain": "<Figure size 1008x720 with 2 Axes>",
      "image/png": "[encoded data removed]"
     },
     "metadata": {
      "needs_background": "light"
     },
     "output_type": "display_data"
    }
   ],
   "source": [
    "# построить гистограмму распределения и ящик с усами для количества пройденных миль\n",
    "fig, (ax1, ax2) = plt.subplots(nrows=2, ncols=1, figsize=(14, 10), sharex=True)\n",
    "\n",
    "ax1.hist(df.odometer, bins=100, color='green')\n",
    "ax1.set_title('Гистограмма распределения количества пройденных миль')\n",
    "ax1.set_xlabel('Количество пройденных миль')\n",
    "ax1.set_ylabel('Частота')\n",
    "\n",
    "ax2.boxplot(df.odometer, sym='+', vert=False)\n",
    "ax2.set_xlabel('Количество пройденных миль')\n",
    "ax2.set_ylabel('Частота')\n",
    "ax2.set_title('Ящик с усами для количества пройденных миль');"
   ],
   "metadata": {
    "collapsed": false
   }
  },
  {
   "cell_type": "markdown",
   "source": [
    "Выбросов не наблюдается"
   ],
   "metadata": {
    "collapsed": false
   }
  },
  {
   "cell_type": "markdown",
   "source": [
    "### 1.3.5 Обработка выбросов лет выпусков"
   ],
   "metadata": {
    "collapsed": false
   }
  },
  {
   "cell_type": "code",
   "execution_count": 77,
   "outputs": [
    {
     "data": {
      "text/plain": "<Figure size 1008x720 with 2 Axes>",
      "image/png": "[encoded data removed]"
     },
     "metadata": {
      "needs_background": "light"
     },
     "output_type": "display_data"
    }
   ],
   "source": [
    "# построить гистограмму распределения и ящик с усами для года выпуска\n",
    "fig, (ax1, ax2) = plt.subplots(nrows=2, ncols=1, figsize=(14, 10), sharex=True)\n",
    "\n",
    "ax1.hist(df.year, bins=20, color='blue')\n",
    "ax1.set_title('Гистограмма распределения года выпуска')\n",
    "ax2.set_xlabel('Год выпуска')\n",
    "ax1.set_ylabel('Частота')\n",
    "\n",
    "ax2.boxplot(df.year, sym='+', vert=False)\n",
    "ax2.set_xlabel('Год выпуска')\n",
    "ax2.set_ylabel('Года')\n",
    "ax2.set_title('Ящик с усами для года выпуска');"
   ],
   "metadata": {
    "collapsed": false
   }
  },
  {
   "cell_type": "code",
   "execution_count": 78,
   "outputs": [
    {
     "name": "stdout",
     "output_type": "stream",
     "text": [
      "Границы нормальных значений: (1994.5, 2030.5)\n"
     ]
    }
   ],
   "source": [
    "# Определим границы нормальных значений\n",
    "year_outl_boundaries = calculate_outliers(df.year)\n",
    "print('Границы нормальных значений:', year_outl_boundaries)"
   ],
   "metadata": {
    "collapsed": false
   }
  },
  {
   "cell_type": "code",
   "execution_count": 79,
   "outputs": [
    {
     "name": "stdout",
     "output_type": "stream",
     "text": [
      "Кол-во выбросов: 379\n"
     ]
    }
   ],
   "source": [
    "# Построим булевы маску выбросов\n",
    "year_outliers_bool = (df.year <= year_outl_boundaries[0]) | (df.year >= year_outl_boundaries[1])\n",
    "print(f'Кол-во выбросов: {year_outliers_bool.sum()}')"
   ],
   "metadata": {
    "collapsed": false
   }
  },
  {
   "cell_type": "code",
   "execution_count": 80,
   "outputs": [
    {
     "data": {
      "text/plain": "(9168, 20)"
     },
     "execution_count": 80,
     "metadata": {},
     "output_type": "execute_result"
    }
   ],
   "source": [
    "# Удалим выбросы\n",
    "df = df[~year_outliers_bool]\n",
    "df.shape"
   ],
   "metadata": {
    "collapsed": false
   }
  },
  {
   "cell_type": "code",
   "execution_count": 81,
   "outputs": [
    {
     "data": {
      "text/plain": "<Figure size 1008x720 with 2 Axes>",
      "image/png": "[encoded data removed]"
     },
     "metadata": {
      "needs_background": "light"
     },
     "output_type": "display_data"
    }
   ],
   "source": [
    "# Проверим выбросы на графиках\n",
    "fig, (ax1, ax2) = plt.subplots(nrows=2, ncols=1, figsize=(14, 10), sharex=True)\n",
    "\n",
    "ax1.hist(df.year, bins=20, color='blue')\n",
    "ax1.set_title('Гистограмма распределения года выпуска')\n",
    "ax2.set_xlabel('Год выпуска')\n",
    "ax1.set_ylabel('Частота')\n",
    "\n",
    "ax2.boxplot(df.year, sym='+', vert=False)\n",
    "ax2.set_xlabel('Год выпуска')\n",
    "ax2.set_ylabel('Года')\n",
    "ax2.set_title('Ящик с усами для года выпуска');"
   ],
   "metadata": {
    "collapsed": false
   }
  },
  {
   "cell_type": "markdown",
   "source": [
    "# 2 Feature engineering\n",
    "## 2.2 Преобразование количественных переменных в категориальные"
   ],
   "metadata": {
    "collapsed": false
   }
  },
  {
   "cell_type": "code",
   "execution_count": 82,
   "outputs": [],
   "source": [
    "# Создадим новый категориальный признак age_category.\n",
    "# Автомобили выпущенные до 2006 года - категория old\n",
    "# Автомобили выпущенные с 2006 по 2013 год - категория average\n",
    "# Автомобили выпущенные после 2013 - категория new\n",
    "df['age_category'] = df.year.apply(\n",
    "    lambda x: str('old' if x < 2006 else ('new' if x > 2013 else 'average'))\n",
    ")"
   ],
   "metadata": {
    "collapsed": false
   }
  },
  {
   "cell_type": "code",
   "execution_count": 83,
   "outputs": [
    {
     "data": {
      "text/plain": "<Figure size 864x576 with 1 Axes>",
      "image/png": "[encoded data removed]"
     },
     "metadata": {
      "needs_background": "light"
     },
     "output_type": "display_data"
    }
   ],
   "source": [
    "# построим гистограмму распределения автомобилей по годам производства и категориям\n",
    "colors = {'new': 'green', 'average': 'orange', 'old': 'red'}\n",
    "\n",
    "fig, ax = plt.subplots(figsize=(12, 8))\n",
    "for age_category, color in colors.items():\n",
    "    data = df[df['age_category'] == age_category]\n",
    "    ax.hist(data['year'], color=color, alpha=0.7)\n",
    "\n",
    "plt.ylabel('Количество')\n",
    "plt.xlabel('Год производства')\n",
    "plt.title('Распределение автомобилей по годам производства')\n",
    "plt.legend(colors, title=\"Категория\");"
   ],
   "metadata": {
    "collapsed": false
   }
  },
  {
   "cell_type": "markdown",
   "source": [
    "## 2.3 Построение признаков из строк\n",
    "### 2.3.1 Создание количественных переменных"
   ],
   "metadata": {
    "collapsed": false
   }
  },
  {
   "cell_type": "code",
   "execution_count": 84,
   "outputs": [
    {
     "data": {
      "text/plain": "count    9168.000000\nmean       12.056610\nstd         8.711537\nmin         1.000000\n25%         6.000000\n50%         9.000000\n75%        18.000000\nmax       187.000000\nName: model_len, dtype: float64"
     },
     "execution_count": 84,
     "metadata": {},
     "output_type": "execute_result"
    }
   ],
   "source": [
    "# Построим признак длины названия модели в символах\n",
    "df['model_len'] = df.model.str.len()\n",
    "df.model_len.describe()"
   ],
   "metadata": {
    "collapsed": false
   }
  },
  {
   "cell_type": "code",
   "execution_count": 85,
   "outputs": [
    {
     "data": {
      "text/plain": "count    9168.000000\nmean        2.196553\nstd         1.493589\nmin         1.000000\n25%         1.000000\n50%         2.000000\n75%         3.000000\nmax        29.000000\nName: model_word_count, dtype: float64"
     },
     "execution_count": 85,
     "metadata": {},
     "output_type": "execute_result"
    }
   ],
   "source": [
    "# Построим признак длины названия модели в словах\n",
    "df['model_word_count'] = df.model.apply(lambda x: len(x.split(' ')))\n",
    "df.model_word_count.describe()"
   ],
   "metadata": {
    "collapsed": false
   }
  },
  {
   "cell_type": "code",
   "execution_count": 86,
   "outputs": [
    {
     "data": {
      "text/plain": "count    9168.000000\nmean       12.056610\nstd         8.711537\nmin         1.000000\n25%         6.000000\n50%         9.000000\n75%        18.000000\nmax       187.000000\nName: description_len, dtype: float64"
     },
     "execution_count": 86,
     "metadata": {},
     "output_type": "execute_result"
    }
   ],
   "source": [
    "# Построим признак длины описания в символах\n",
    "df['description_len'] = df.model.str.len()\n",
    "df.description_len.describe()"
   ],
   "metadata": {
    "collapsed": false
   }
  },
  {
   "cell_type": "code",
   "execution_count": 87,
   "outputs": [
    {
     "data": {
      "text/plain": "count    9168.000000\nmean        2.196553\nstd         1.493589\nmin         1.000000\n25%         1.000000\n50%         2.000000\n75%         3.000000\nmax        29.000000\nName: description_word_count, dtype: float64"
     },
     "execution_count": 87,
     "metadata": {},
     "output_type": "execute_result"
    }
   ],
   "source": [
    "# Построим признак длины описания в словах\n",
    "df['description_word_count'] = df.model.apply(lambda x: len(x.split(' ')))\n",
    "df.description_word_count.describe()"
   ],
   "metadata": {
    "collapsed": false
   }
  },
  {
   "cell_type": "markdown",
   "source": [
    "### 2.3.2 Создание строковых переменных"
   ],
   "metadata": {
    "collapsed": false
   }
  },
  {
   "cell_type": "code",
   "execution_count": 88,
   "outputs": [
    {
     "data": {
      "text/plain": "830"
     },
     "execution_count": 88,
     "metadata": {},
     "output_type": "execute_result"
    }
   ],
   "source": [
    "# Построим признак короткого название модели из признака model\n",
    "df['short_model'] = df.model.apply(lambda x: x.split(' ')[0])\n",
    "df.short_model.nunique()"
   ],
   "metadata": {
    "collapsed": false
   }
  },
  {
   "cell_type": "code",
   "execution_count": 89,
   "outputs": [
    {
     "data": {
      "text/plain": "399"
     },
     "execution_count": 89,
     "metadata": {},
     "output_type": "execute_result"
    }
   ],
   "source": [
    "# Построим признак названия региона на основе ссылки региона\n",
    "df['region_new'] = df.region_url.apply(\n",
    "    lambda x: x.lower().split('://')[1].split('.')[0]\n",
    ")\n",
    "df['region_new'].nunique()"
   ],
   "metadata": {
    "collapsed": false
   }
  },
  {
   "cell_type": "code",
   "execution_count": 90,
   "outputs": [
    {
     "data": {
      "text/plain": "387"
     },
     "execution_count": 90,
     "metadata": {},
     "output_type": "execute_result"
    }
   ],
   "source": [
    "df['region'].nunique()"
   ],
   "metadata": {
    "collapsed": false
   }
  },
  {
   "cell_type": "code",
   "execution_count": 91,
   "outputs": [
    {
     "data": {
      "text/plain": "230"
     },
     "execution_count": 91,
     "metadata": {},
     "output_type": "execute_result"
    }
   ],
   "source": [
    "# Посмотрим сколько не равных элементов в признаках region и region_new\n",
    "df[df['region'] != df['region_new']].region.unique().size"
   ],
   "metadata": {
    "collapsed": false
   }
  },
  {
   "cell_type": "code",
   "execution_count": 92,
   "outputs": [
    {
     "data": {
      "text/plain": "array(['north jersey', 'reno / tahoe', 'new york city', 'des moines',\n       'grand rapids', 'omaha / council bluffs', 'rhode island',\n       'fresno / madera', 'inland empire', 'south jersey', 'new haven',\n       'ft myers / SW florida', 'tyler / east TX', 'corpus christi',\n       'appleton-oshkosh-FDL', 'las vegas', 'greenville / upstate',\n       'port huron', 'olympic peninsula', 'san angelo',\n       'dallas / fort worth', 'SF bay area', 'fort collins / north CO',\n       'st cloud', 'colorado springs', 'yuba-sutter', 'san luis obispo',\n       'ventura county', 'baton rouge', 'central NJ',\n       'killeen / temple / ft hood', 'jersey shore',\n       'kennewick-pasco-richland', 'western KY', 'detroit metro',\n       'battle creek', 'st louis, MO', 'dayton / springfield',\n       'kansas city, MO', 'orange county', 'champaign urbana', 'show low',\n       'sarasota-bradenton', 'tampa bay area', 'raleigh / durham / CH',\n       'seattle-tacoma', 'gold country', 'fargo / moorhead',\n       'south bend / michiana', \"spokane / coeur d'alene\", 'twin falls',\n       'worcester / central MA', 'lima / findlay', 'oklahoma city',\n       'los angeles', 'fayetteville', 'columbia / jeff city',\n       'san antonio', 'monterey bay', 'south florida', 'lehigh valley',\n       'macon / warner robins', 'new hampshire', 'treasure coast',\n       'akron / canton', 'lewiston / clarkston', 'eastern NC',\n       'terre haute', 'eastern CT', 'grand island', 'long island',\n       'fort wayne', 'myrtle beach', 'scranton / wilkes-barre',\n       'daytona beach', 'savannah / hinesville', 'western massachusetts',\n       'huntington-ashland', 'el paso', 'winston-salem', 'western slope',\n       'st george', 'minneapolis / st paul', 'birmingham', 'palm springs',\n       'santa fe / taos', 'norfolk / hampton roads', 'northwest GA',\n       'washington, DC', 'glens falls', 'new river valley',\n       'oregon coast', 'san diego', 'las cruces', 'rochester',\n       'springfield', 'rapid city / west SD', 'saginaw-midland-baycity',\n       'wichita falls', 'parkersburg-marietta', 'florida keys',\n       'southwest michigan', 'jackson', 'little rock',\n       'quad cities, IA/IL', 'visalia-tulare', 'plattsburgh-adirondacks',\n       'huntsville / decatur', 'columbus', 'southern maryland',\n       'sioux falls / SE SD', 'finger lakes', 'hudson valley',\n       'green bay', 'eau claire', 'upper peninsula', 'cedar rapids',\n       'mcallen / edinburg', 'southwest MN', 'utica-rome-oneida',\n       'victoria', 'skagit / island / SJI', 'medford-ashland',\n       'salt lake city', 'moses lake', 'east idaho', 'cumberland valley',\n       'western maryland', 'great falls', 'southern illinois',\n       'santa barbara', 'kenosha-racine', 'odessa / midland',\n       'zanesville / cambridge', 'athens', 'mohave county', 'tri-cities',\n       'duluth / superior', 'gadsden-anniston', 'sioux city',\n       'northwest OK', 'altoona-johnstown', 'pullman / moscow',\n       'new orleans', 'northwest CT', 'hilton head', 'manhattan',\n       'central michigan', 'siskiyou county', 'east oregon',\n       'space coast', 'ann arbor', 'hickory / lenoir', 'north central FL',\n       'twin tiers NY/PA', 'humboldt county', 'mattoon-charleston',\n       'monroe', 'la crosse', 'flagstaff / sedona',\n       'scottsbluff / panhandle', 'tuscarawas co', 'heartland florida',\n       'the thumb', 'eastern shore', 'muncie / anderson', 'sierra vista',\n       'jacksonville', 'elmira-corning', 'bloomington-normal',\n       'beaumont / port arthur', 'hanford-corcoran', 'northern panhandle',\n       'southeast missouri', 'santa maria', 'fort dodge',\n       'lafayette / west lafayette', 'potsdam-canton-massena',\n       'iowa city', 'southwest KS', 'charleston', 'northwest KS',\n       'cape cod / islands', 'college station', 'state college',\n       'corvallis/albany', 'florence', 'bowling green',\n       'eastern kentucky', 'clovis / portales', 'north mississippi',\n       'lake of the ozarks', 'mason city', 'okaloosa / walton',\n       'san marcos', 'south coast', 'southeast IA', 'eastern montana',\n       'central louisiana', 'lake charles', 'northern WI', 'albany',\n       'mendocino county', 'imperial county', 'north platte',\n       'southwest VA', 'northern michigan', 'la salle co',\n       'ogden-clearfield', 'florence / muscle shoals', 'southwest MS',\n       'south dakota', 'st joseph', 'del rio / eagle pass', 'fort smith',\n       'panama city', 'roswell / carlsbad', 'eastern panhandle',\n       'north dakota', 'waterloo / cedar falls', 'anchorage / mat-su',\n       'eastern CO', 'grand forks', 'klamath falls', 'richmond',\n       'gulfport / biloxi', 'high rockies', 'northeast SD', 'outer banks',\n       'st augustine'], dtype=object)"
     },
     "execution_count": 92,
     "metadata": {},
     "output_type": "execute_result"
    }
   ],
   "source": [
    "# Посмотрим на различающиеся значения\n",
    "df[df['region'] != df['region_new']].region.unique()"
   ],
   "metadata": {
    "collapsed": false
   }
  },
  {
   "cell_type": "code",
   "execution_count": 93,
   "outputs": [],
   "source": [
    "# Удалим символы, которые усиливают расхождение\n",
    "df['region_corrected'] = df['region'].apply(\n",
    "    lambda x: x.lower().split('/')[0].replace(' ', '').replace('-', '')\n",
    ")"
   ],
   "metadata": {
    "collapsed": false
   }
  },
  {
   "cell_type": "code",
   "execution_count": 94,
   "outputs": [
    {
     "data": {
      "text/plain": "384"
     },
     "execution_count": 94,
     "metadata": {},
     "output_type": "execute_result"
    }
   ],
   "source": [
    "df['region_corrected'].nunique()"
   ],
   "metadata": {
    "collapsed": false
   }
  },
  {
   "cell_type": "code",
   "execution_count": 95,
   "outputs": [
    {
     "data": {
      "text/plain": "115"
     },
     "execution_count": 95,
     "metadata": {},
     "output_type": "execute_result"
    }
   ],
   "source": [
    "df[df['region_corrected'] != df['region_new']].region.unique().size"
   ],
   "metadata": {
    "collapsed": false
   }
  },
  {
   "cell_type": "markdown",
   "source": [
    "## 2.4 Построение признаков из количественных переменных"
   ],
   "metadata": {
    "collapsed": false
   },
   "outputs": []
  },
  {
   "cell_type": "code",
   "execution_count": 96,
   "outputs": [
    {
     "data": {
      "text/plain": "id                                      int64\nurl                                    object\nregion                                 object\nregion_url                             object\nprice                                   int64\nyear                                    int32\nmanufacturer                           object\nmodel                                  object\nfuel                                   object\nodometer                                int64\ntitle_status                           object\ntransmission                           object\nimage_url                              object\ndescription                            object\nstate                                  object\nlat                                   float64\nlong                                  float64\nposting_date              datetime64[ns, UTC]\nprice_category                         object\ndate                      datetime64[ns, UTC]\nage_category                           object\nmodel_len                               int64\nmodel_word_count                        int64\ndescription_len                         int64\ndescription_word_count                  int64\nshort_model                            object\nregion_new                             object\nregion_corrected                       object\ndtype: object"
     },
     "execution_count": 96,
     "metadata": {},
     "output_type": "execute_result"
    }
   ],
   "source": [
    "df.dtypes"
   ],
   "metadata": {
    "collapsed": false
   }
  },
  {
   "cell_type": "markdown",
   "source": [
    "### 2.4.1 Создание одних количественных признаков на основе других"
   ],
   "metadata": {
    "collapsed": false
   }
  },
  {
   "cell_type": "code",
   "execution_count": 97,
   "outputs": [
    {
     "data": {
      "text/plain": "count    9168.000000\nmean       14.750016\nstd        27.774603\nmin         0.000000\n25%         1.637451\n50%         5.860024\n75%        16.389936\nmax       466.666667\nName: odometer/price, dtype: float64"
     },
     "execution_count": 97,
     "metadata": {},
     "output_type": "execute_result"
    }
   ],
   "source": [
    "# Построим признак отношения пробега к цене\n",
    "df['odometer/price'] = df.apply(lambda x: x.odometer / x.price, axis=1)\n",
    "df['odometer/price'].describe()"
   ],
   "metadata": {
    "collapsed": false
   }
  },
  {
   "cell_type": "markdown",
   "source": [
    "### 2.4.2 Стандартизация переменных"
   ],
   "metadata": {
    "collapsed": false
   }
  },
  {
   "cell_type": "code",
   "execution_count": 98,
   "outputs": [
    {
     "data": {
      "text/plain": "id                                      int64\nurl                                    object\nregion                                 object\nregion_url                             object\nprice                                   int64\nyear                                    int32\nmanufacturer                           object\nmodel                                  object\nfuel                                   object\nodometer                                int64\ntitle_status                           object\ntransmission                           object\nimage_url                              object\ndescription                            object\nstate                                  object\nlat                                   float64\nlong                                  float64\nposting_date              datetime64[ns, UTC]\nprice_category                         object\ndate                      datetime64[ns, UTC]\nage_category                           object\nmodel_len                               int64\nmodel_word_count                        int64\ndescription_len                         int64\ndescription_word_count                  int64\nshort_model                            object\nregion_new                             object\nregion_corrected                       object\nodometer/price                        float64\ndtype: object"
     },
     "execution_count": 98,
     "metadata": {},
     "output_type": "execute_result"
    }
   ],
   "source": [
    "df.dtypes"
   ],
   "metadata": {
    "collapsed": false
   }
  },
  {
   "cell_type": "code",
   "execution_count": 99,
   "outputs": [
    {
     "data": {
      "text/plain": "           id                                                url  \\\n0  7308295377  https://chattanooga.craigslist.org/ctd/d/chatt...   \n1  7316380095  https://newjersey.craigslist.org/ctd/d/carlsta...   \n2  7313733749  https://reno.craigslist.org/ctd/d/atlanta-2017...   \n3  7308210929  https://fayetteville.craigslist.org/ctd/d/rale...   \n4  7316474668  https://newyork.craigslist.org/lgi/cto/d/baldw...   \n\n          region                           region_url  price  year  \\\n0    chattanooga   https://chattanooga.craigslist.org  54990  2020   \n1   north jersey     https://newjersey.craigslist.org  16942  2016   \n2   reno / tahoe          https://reno.craigslist.org  35590  2017   \n3   fayetteville  https://fayetteville.craigslist.org  14500  2013   \n4  new york city       https://newyork.craigslist.org  21800  2021   \n\n  manufacturer                   model     fuel  odometer  ...  \\\n0          ram  2500 crew cab big horn   diesel     27442  ...   \n1         ford    explorer 4wd 4dr xlt  unknown     60023  ...   \n2   volkswagen        golf r hatchback      gas     14048  ...   \n3       toyota                    rav4      gas    117291  ...   \n4       nissan                  altima      gas      8000  ...   \n\n                       date age_category model_len model_word_count  \\\n0 2021-04-17 16:30:50+00:00          new        22                5   \n1 2021-05-03 19:40:21+00:00          new        20                4   \n2 2021-04-28 10:52:20+00:00          new        16                3   \n3 2021-04-17 14:08:57+00:00      average         4                1   \n4 2021-05-03 22:32:06+00:00          new         6                1   \n\n  description_len  description_word_count  short_model    region_new  \\\n0              22                       5         2500   chattanooga   \n1              20                       4     explorer     newjersey   \n2              16                       3         golf          reno   \n3               4                       1         rav4  fayetteville   \n4               6                       1       altima       newyork   \n\n  region_corrected odometer/price  \n0      chattanooga       0.499036  \n1      northjersey       3.542852  \n2             reno       0.394718  \n3     fayetteville       8.089034  \n4      newyorkcity       0.366972  \n\n[5 rows x 29 columns]",
      "text/html": "<div>\n<style scoped>\n    .dataframe tbody tr th:only-of-type {\n        vertical-align: middle;\n    }\n\n    .dataframe tbody tr th {\n        vertical-align: top;\n    }\n\n    .dataframe thead th {\n        text-align: right;\n    }\n</style>\n<table border=\"1\" class=\"dataframe\">\n  <thead>\n    <tr style=\"text-align: right;\">\n      <th></th>\n      <th>id</th>\n      <th>url</th>\n      <th>region</th>\n      <th>region_url</th>\n      <th>price</th>\n      <th>year</th>\n      <th>manufacturer</th>\n      <th>model</th>\n      <th>fuel</th>\n      <th>odometer</th>\n      <th>...</th>\n      <th>date</th>\n      <th>age_category</th>\n      <th>model_len</th>\n      <th>model_word_count</th>\n      <th>description_len</th>\n      <th>description_word_count</th>\n      <th>short_model</th>\n      <th>region_new</th>\n      <th>region_corrected</th>\n      <th>odometer/price</th>\n    </tr>\n  </thead>\n  <tbody>\n    <tr>\n      <th>0</th>\n      <td>7308295377</td>\n      <td>https://chattanooga.craigslist.org/ctd/d/chatt...</td>\n      <td>chattanooga</td>\n      <td>https://chattanooga.craigslist.org</td>\n      <td>54990</td>\n      <td>2020</td>\n      <td>ram</td>\n      <td>2500 crew cab big horn</td>\n      <td>diesel</td>\n      <td>27442</td>\n      <td>...</td>\n      <td>2021-04-17 16:30:50+00:00</td>\n      <td>new</td>\n      <td>22</td>\n      <td>5</td>\n      <td>22</td>\n      <td>5</td>\n      <td>2500</td>\n      <td>chattanooga</td>\n      <td>chattanooga</td>\n      <td>0.499036</td>\n    </tr>\n    <tr>\n      <th>1</th>\n      <td>7316380095</td>\n      <td>https://newjersey.craigslist.org/ctd/d/carlsta...</td>\n      <td>north jersey</td>\n      <td>https://newjersey.craigslist.org</td>\n      <td>16942</td>\n      <td>2016</td>\n      <td>ford</td>\n      <td>explorer 4wd 4dr xlt</td>\n      <td>unknown</td>\n      <td>60023</td>\n      <td>...</td>\n      <td>2021-05-03 19:40:21+00:00</td>\n      <td>new</td>\n      <td>20</td>\n      <td>4</td>\n      <td>20</td>\n      <td>4</td>\n      <td>explorer</td>\n      <td>newjersey</td>\n      <td>northjersey</td>\n      <td>3.542852</td>\n    </tr>\n    <tr>\n      <th>2</th>\n      <td>7313733749</td>\n      <td>https://reno.craigslist.org/ctd/d/atlanta-2017...</td>\n      <td>reno / tahoe</td>\n      <td>https://reno.craigslist.org</td>\n      <td>35590</td>\n      <td>2017</td>\n      <td>volkswagen</td>\n      <td>golf r hatchback</td>\n      <td>gas</td>\n      <td>14048</td>\n      <td>...</td>\n      <td>2021-04-28 10:52:20+00:00</td>\n      <td>new</td>\n      <td>16</td>\n      <td>3</td>\n      <td>16</td>\n      <td>3</td>\n      <td>golf</td>\n      <td>reno</td>\n      <td>reno</td>\n      <td>0.394718</td>\n    </tr>\n    <tr>\n      <th>3</th>\n      <td>7308210929</td>\n      <td>https://fayetteville.craigslist.org/ctd/d/rale...</td>\n      <td>fayetteville</td>\n      <td>https://fayetteville.craigslist.org</td>\n      <td>14500</td>\n      <td>2013</td>\n      <td>toyota</td>\n      <td>rav4</td>\n      <td>gas</td>\n      <td>117291</td>\n      <td>...</td>\n      <td>2021-04-17 14:08:57+00:00</td>\n      <td>average</td>\n      <td>4</td>\n      <td>1</td>\n      <td>4</td>\n      <td>1</td>\n      <td>rav4</td>\n      <td>fayetteville</td>\n      <td>fayetteville</td>\n      <td>8.089034</td>\n    </tr>\n    <tr>\n      <th>4</th>\n      <td>7316474668</td>\n      <td>https://newyork.craigslist.org/lgi/cto/d/baldw...</td>\n      <td>new york city</td>\n      <td>https://newyork.craigslist.org</td>\n      <td>21800</td>\n      <td>2021</td>\n      <td>nissan</td>\n      <td>altima</td>\n      <td>gas</td>\n      <td>8000</td>\n      <td>...</td>\n      <td>2021-05-03 22:32:06+00:00</td>\n      <td>new</td>\n      <td>6</td>\n      <td>1</td>\n      <td>6</td>\n      <td>1</td>\n      <td>altima</td>\n      <td>newyork</td>\n      <td>newyorkcity</td>\n      <td>0.366972</td>\n    </tr>\n  </tbody>\n</table>\n<p>5 rows × 29 columns</p>\n</div>"
     },
     "execution_count": 99,
     "metadata": {},
     "output_type": "execute_result"
    }
   ],
   "source": [
    "df.head()"
   ],
   "metadata": {
    "collapsed": false
   }
  },
  {
   "cell_type": "code",
   "execution_count": 100,
   "outputs": [],
   "source": [
    "# Определим какие признаки нужно стандартизировать\n",
    "std_targets = [\n",
    "    'year',\n",
    "    'odometer',\n",
    "    'lat',\n",
    "    'long',\n",
    "    'model_len',\n",
    "    'model_word_count',\n",
    "    'description_len',\n",
    "    'description_word_count',\n",
    "    'odometer/price'\n",
    "]"
   ],
   "metadata": {
    "collapsed": false
   }
  },
  {
   "cell_type": "code",
   "execution_count": 101,
   "outputs": [
    {
     "data": {
      "text/plain": "StandardScaler()"
     },
     "execution_count": 101,
     "metadata": {},
     "output_type": "execute_result"
    }
   ],
   "source": [
    "# Проведем стандартизацию признаков\n",
    "std_scaler = StandardScaler()\n",
    "std_scaler.fit(df[std_targets])"
   ],
   "metadata": {
    "collapsed": false
   }
  },
  {
   "cell_type": "code",
   "execution_count": 102,
   "outputs": [
    {
     "name": "stdout",
     "output_type": "stream",
     "text": [
      "Среднее: [ 2.01226571e+03  9.57252384e+04  3.84786466e+01 -9.30088642e+01\n",
      "  1.20566099e+01  2.19655323e+00  1.20566099e+01  2.19655323e+00\n",
      "  1.47500160e+01]\n",
      "Дисперсия [3.06462411e+01 3.95371657e+09 2.68255401e+01 2.68406399e+02\n",
      " 7.58825937e+01 2.23056404e+00 7.58825937e+01 2.23056404e+00\n",
      " 7.71344440e+02]\n"
     ]
    }
   ],
   "source": [
    "print('Среднее:', std_scaler.mean_)\n",
    "print('Дисперсия', std_scaler.var_)"
   ],
   "metadata": {
    "collapsed": false
   }
  },
  {
   "cell_type": "code",
   "execution_count": 103,
   "outputs": [
    {
     "data": {
      "text/plain": "   year_std  odometer_std   lat_std  long_std  model_len_std  \\\n0  1.397115     -1.085954 -0.660055  0.473589       1.141467   \n1  0.674559     -0.567796  0.452405  1.156490       0.911874   \n2  0.855198     -1.298967 -0.907342  0.524751       0.452688   \n3  0.132642      0.342975 -0.533407  0.876119      -0.924871   \n4  1.577754     -1.395153  0.420161  1.184095      -0.695278   \n\n   model_word_count_std  description_len_std  description_word_count_std  \\\n0              1.877089             1.141467                    1.877089   \n1              1.207525             0.911874                    1.207525   \n2              0.537960             0.452688                    0.537960   \n3             -0.801170            -0.924871                   -0.801170   \n4             -0.801170            -0.695278                   -0.801170   \n\n   odometer/price_std  \n0           -0.513122  \n1           -0.403526  \n2           -0.516878  \n3           -0.239836  \n4           -0.517877  ",
      "text/html": "<div>\n<style scoped>\n    .dataframe tbody tr th:only-of-type {\n        vertical-align: middle;\n    }\n\n    .dataframe tbody tr th {\n        vertical-align: top;\n    }\n\n    .dataframe thead th {\n        text-align: right;\n    }\n</style>\n<table border=\"1\" class=\"dataframe\">\n  <thead>\n    <tr style=\"text-align: right;\">\n      <th></th>\n      <th>year_std</th>\n      <th>odometer_std</th>\n      <th>lat_std</th>\n      <th>long_std</th>\n      <th>model_len_std</th>\n      <th>model_word_count_std</th>\n      <th>description_len_std</th>\n      <th>description_word_count_std</th>\n      <th>odometer/price_std</th>\n    </tr>\n  </thead>\n  <tbody>\n    <tr>\n      <th>0</th>\n      <td>1.397115</td>\n      <td>-1.085954</td>\n      <td>-0.660055</td>\n      <td>0.473589</td>\n      <td>1.141467</td>\n      <td>1.877089</td>\n      <td>1.141467</td>\n      <td>1.877089</td>\n      <td>-0.513122</td>\n    </tr>\n    <tr>\n      <th>1</th>\n      <td>0.674559</td>\n      <td>-0.567796</td>\n      <td>0.452405</td>\n      <td>1.156490</td>\n      <td>0.911874</td>\n      <td>1.207525</td>\n      <td>0.911874</td>\n      <td>1.207525</td>\n      <td>-0.403526</td>\n    </tr>\n    <tr>\n      <th>2</th>\n      <td>0.855198</td>\n      <td>-1.298967</td>\n      <td>-0.907342</td>\n      <td>0.524751</td>\n      <td>0.452688</td>\n      <td>0.537960</td>\n      <td>0.452688</td>\n      <td>0.537960</td>\n      <td>-0.516878</td>\n    </tr>\n    <tr>\n      <th>3</th>\n      <td>0.132642</td>\n      <td>0.342975</td>\n      <td>-0.533407</td>\n      <td>0.876119</td>\n      <td>-0.924871</td>\n      <td>-0.801170</td>\n      <td>-0.924871</td>\n      <td>-0.801170</td>\n      <td>-0.239836</td>\n    </tr>\n    <tr>\n      <th>4</th>\n      <td>1.577754</td>\n      <td>-1.395153</td>\n      <td>0.420161</td>\n      <td>1.184095</td>\n      <td>-0.695278</td>\n      <td>-0.801170</td>\n      <td>-0.695278</td>\n      <td>-0.801170</td>\n      <td>-0.517877</td>\n    </tr>\n  </tbody>\n</table>\n</div>"
     },
     "execution_count": 103,
     "metadata": {},
     "output_type": "execute_result"
    }
   ],
   "source": [
    "# Сохраним стандартизированные признаки\n",
    "std_scaled = std_scaler.transform(df[std_targets])\n",
    "df[[f'{name}_std' for name in std_targets]] = std_scaled\n",
    "df[[f'{name}_std' for name in std_targets]].head()"
   ],
   "metadata": {
    "collapsed": false
   }
  },
  {
   "cell_type": "code",
   "execution_count": 104,
   "outputs": [
    {
     "data": {
      "text/plain": "       year_std  odometer_std   lat_std  long_std  model_len_std  \\\ncount  9168.000      9168.000  9168.000  9168.000       9168.000   \nmean      0.000         0.000    -0.000     0.000         -0.000   \nstd       1.000         1.000     1.000     1.000          1.000   \nmin      -3.119        -1.522    -2.587    -1.908         -1.269   \n25%      -0.771        -0.871    -0.681    -0.746         -0.695   \n50%       0.133        -0.057     0.151     0.341         -0.351   \n75%       0.855         0.691     0.741     0.757          0.682   \nmax       1.758         2.986     2.019     1.496         20.083   \n\n       model_word_count_std  description_len_std  description_word_count_std  \\\ncount              9168.000             9168.000                    9168.000   \nmean                 -0.000               -0.000                      -0.000   \nstd                   1.000                1.000                       1.000   \nmin                  -0.801               -1.269                      -0.801   \n25%                  -0.801               -0.695                      -0.801   \n50%                  -0.132               -0.351                      -0.132   \n75%                   0.538                0.682                       0.538   \nmax                  17.947               20.083                      17.947   \n\n       odometer/price_std  \ncount            9168.000  \nmean               -0.000  \nstd                 1.000  \nmin                -0.531  \n25%                -0.472  \n50%                -0.320  \n75%                 0.059  \nmax                16.272  ",
      "text/html": "<div>\n<style scoped>\n    .dataframe tbody tr th:only-of-type {\n        vertical-align: middle;\n    }\n\n    .dataframe tbody tr th {\n        vertical-align: top;\n    }\n\n    .dataframe thead th {\n        text-align: right;\n    }\n</style>\n<table border=\"1\" class=\"dataframe\">\n  <thead>\n    <tr style=\"text-align: right;\">\n      <th></th>\n      <th>year_std</th>\n      <th>odometer_std</th>\n      <th>lat_std</th>\n      <th>long_std</th>\n      <th>model_len_std</th>\n      <th>model_word_count_std</th>\n      <th>description_len_std</th>\n      <th>description_word_count_std</th>\n      <th>odometer/price_std</th>\n    </tr>\n  </thead>\n  <tbody>\n    <tr>\n      <th>count</th>\n      <td>9168.000</td>\n      <td>9168.000</td>\n      <td>9168.000</td>\n      <td>9168.000</td>\n      <td>9168.000</td>\n      <td>9168.000</td>\n      <td>9168.000</td>\n      <td>9168.000</td>\n      <td>9168.000</td>\n    </tr>\n    <tr>\n      <th>mean</th>\n      <td>0.000</td>\n      <td>0.000</td>\n      <td>-0.000</td>\n      <td>0.000</td>\n      <td>-0.000</td>\n      <td>-0.000</td>\n      <td>-0.000</td>\n      <td>-0.000</td>\n      <td>-0.000</td>\n    </tr>\n    <tr>\n      <th>std</th>\n      <td>1.000</td>\n      <td>1.000</td>\n      <td>1.000</td>\n      <td>1.000</td>\n      <td>1.000</td>\n      <td>1.000</td>\n      <td>1.000</td>\n      <td>1.000</td>\n      <td>1.000</td>\n    </tr>\n    <tr>\n      <th>min</th>\n      <td>-3.119</td>\n      <td>-1.522</td>\n      <td>-2.587</td>\n      <td>-1.908</td>\n      <td>-1.269</td>\n      <td>-0.801</td>\n      <td>-1.269</td>\n      <td>-0.801</td>\n      <td>-0.531</td>\n    </tr>\n    <tr>\n      <th>25%</th>\n      <td>-0.771</td>\n      <td>-0.871</td>\n      <td>-0.681</td>\n      <td>-0.746</td>\n      <td>-0.695</td>\n      <td>-0.801</td>\n      <td>-0.695</td>\n      <td>-0.801</td>\n      <td>-0.472</td>\n    </tr>\n    <tr>\n      <th>50%</th>\n      <td>0.133</td>\n      <td>-0.057</td>\n      <td>0.151</td>\n      <td>0.341</td>\n      <td>-0.351</td>\n      <td>-0.132</td>\n      <td>-0.351</td>\n      <td>-0.132</td>\n      <td>-0.320</td>\n    </tr>\n    <tr>\n      <th>75%</th>\n      <td>0.855</td>\n      <td>0.691</td>\n      <td>0.741</td>\n      <td>0.757</td>\n      <td>0.682</td>\n      <td>0.538</td>\n      <td>0.682</td>\n      <td>0.538</td>\n      <td>0.059</td>\n    </tr>\n    <tr>\n      <th>max</th>\n      <td>1.758</td>\n      <td>2.986</td>\n      <td>2.019</td>\n      <td>1.496</td>\n      <td>20.083</td>\n      <td>17.947</td>\n      <td>20.083</td>\n      <td>17.947</td>\n      <td>16.272</td>\n    </tr>\n  </tbody>\n</table>\n</div>"
     },
     "execution_count": 104,
     "metadata": {},
     "output_type": "execute_result"
    }
   ],
   "source": [
    "# Выведем описательную статистику стандартизированных признаков\n",
    "df[[f'{name}_std' for name in std_targets]].describe().apply(lambda x: round(x, 3))"
   ],
   "metadata": {
    "collapsed": false
   }
  },
  {
   "cell_type": "markdown",
   "source": [
    "## 2.5 Построение признаков на основе дат\n",
    "### 2.5.1 Построение признаков"
   ],
   "metadata": {
    "collapsed": false
   }
  },
  {
   "cell_type": "code",
   "execution_count": 105,
   "outputs": [
    {
     "data": {
      "text/plain": "id                                          int64\nurl                                        object\nregion                                     object\nregion_url                                 object\nprice                                       int64\nyear                                        int32\nmanufacturer                               object\nmodel                                      object\nfuel                                       object\nodometer                                    int64\ntitle_status                               object\ntransmission                               object\nimage_url                                  object\ndescription                                object\nstate                                      object\nlat                                       float64\nlong                                      float64\nposting_date                  datetime64[ns, UTC]\nprice_category                             object\ndate                          datetime64[ns, UTC]\nage_category                               object\nmodel_len                                   int64\nmodel_word_count                            int64\ndescription_len                             int64\ndescription_word_count                      int64\nshort_model                                object\nregion_new                                 object\nregion_corrected                           object\nodometer/price                            float64\nyear_std                                  float64\nodometer_std                              float64\nlat_std                                   float64\nlong_std                                  float64\nmodel_len_std                             float64\nmodel_word_count_std                      float64\ndescription_len_std                       float64\ndescription_word_count_std                float64\nodometer/price_std                        float64\ndtype: object"
     },
     "execution_count": 105,
     "metadata": {},
     "output_type": "execute_result"
    }
   ],
   "source": [
    "df.dtypes"
   ],
   "metadata": {
    "collapsed": false
   }
  },
  {
   "cell_type": "code",
   "execution_count": 106,
   "outputs": [
    {
     "data": {
      "text/plain": "0   2021-04-17 16:30:50+00:00\n1   2021-05-03 19:40:21+00:00\n2   2021-04-28 10:52:20+00:00\n3   2021-04-17 14:08:57+00:00\n4   2021-05-03 22:32:06+00:00\nName: posting_date, dtype: datetime64[ns, UTC]"
     },
     "execution_count": 106,
     "metadata": {},
     "output_type": "execute_result"
    }
   ],
   "source": [
    "df.posting_date.head()"
   ],
   "metadata": {
    "collapsed": false
   }
  },
  {
   "cell_type": "code",
   "execution_count": 107,
   "outputs": [
    {
     "data": {
      "text/plain": "0   2021-04-17 16:30:50+00:00\n1   2021-05-03 19:40:21+00:00\n2   2021-04-28 10:52:20+00:00\n3   2021-04-17 14:08:57+00:00\n4   2021-05-03 22:32:06+00:00\nName: date, dtype: datetime64[ns, UTC]"
     },
     "execution_count": 107,
     "metadata": {},
     "output_type": "execute_result"
    }
   ],
   "source": [
    "df.date.head()"
   ],
   "metadata": {
    "collapsed": false
   }
  },
  {
   "cell_type": "code",
   "execution_count": 108,
   "outputs": [
    {
     "data": {
      "text/plain": "1.0"
     },
     "execution_count": 108,
     "metadata": {},
     "output_type": "execute_result"
    }
   ],
   "source": [
    "# Определим равенство признаков date и хостинг posting_date\n",
    "(df.date == df.posting_date).mean()"
   ],
   "metadata": {
    "collapsed": false
   }
  },
  {
   "cell_type": "code",
   "execution_count": 109,
   "outputs": [],
   "source": [
    "# Удалим один из них (date)\n",
    "df = df.drop('date', axis=1)"
   ],
   "metadata": {
    "collapsed": false
   }
  },
  {
   "cell_type": "code",
   "execution_count": 110,
   "outputs": [],
   "source": [
    "# Создадим признак месяца публикации объявления\n",
    "df['posting_month'] = df.posting_date.dt.month"
   ],
   "metadata": {
    "collapsed": false
   }
  },
  {
   "cell_type": "code",
   "execution_count": 111,
   "outputs": [],
   "source": [
    "# Создадим признак дня недели публикации объявления\n",
    "df['dayofweek'] = df.posting_date.dt.weekday"
   ],
   "metadata": {
    "collapsed": false
   }
  },
  {
   "cell_type": "code",
   "execution_count": 112,
   "outputs": [],
   "source": [
    "# Создадим признак возраста автомобиля\n",
    "df['diff_years'] = df.posting_date.dt.year - df.year"
   ],
   "metadata": {
    "collapsed": false
   }
  },
  {
   "cell_type": "code",
   "execution_count": 113,
   "outputs": [
    {
     "data": {
      "text/plain": "   posting_month  dayofweek  diff_years\n0              4          5           1\n1              5          0           5\n2              4          2           4\n3              4          5           8\n4              5          0           0",
      "text/html": "<div>\n<style scoped>\n    .dataframe tbody tr th:only-of-type {\n        vertical-align: middle;\n    }\n\n    .dataframe tbody tr th {\n        vertical-align: top;\n    }\n\n    .dataframe thead th {\n        text-align: right;\n    }\n</style>\n<table border=\"1\" class=\"dataframe\">\n  <thead>\n    <tr style=\"text-align: right;\">\n      <th></th>\n      <th>posting_month</th>\n      <th>dayofweek</th>\n      <th>diff_years</th>\n    </tr>\n  </thead>\n  <tbody>\n    <tr>\n      <th>0</th>\n      <td>4</td>\n      <td>5</td>\n      <td>1</td>\n    </tr>\n    <tr>\n      <th>1</th>\n      <td>5</td>\n      <td>0</td>\n      <td>5</td>\n    </tr>\n    <tr>\n      <th>2</th>\n      <td>4</td>\n      <td>2</td>\n      <td>4</td>\n    </tr>\n    <tr>\n      <th>3</th>\n      <td>4</td>\n      <td>5</td>\n      <td>8</td>\n    </tr>\n    <tr>\n      <th>4</th>\n      <td>5</td>\n      <td>0</td>\n      <td>0</td>\n    </tr>\n  </tbody>\n</table>\n</div>"
     },
     "execution_count": 113,
     "metadata": {},
     "output_type": "execute_result"
    }
   ],
   "source": [
    "# Проверим созданные признаки\n",
    "df[['posting_month', 'dayofweek', 'diff_years']].head()"
   ],
   "metadata": {
    "collapsed": false
   }
  },
  {
   "cell_type": "markdown",
   "source": [
    "### 2.5.2 Стандартизация признаков"
   ],
   "metadata": {
    "collapsed": false
   }
  },
  {
   "cell_type": "code",
   "execution_count": 114,
   "outputs": [
    {
     "data": {
      "text/plain": "   std_posting_month  std_dayofweek  std_diff_years\n0          -0.611133       1.124779       -1.397115\n1           1.636306      -1.378127       -0.674559\n2          -0.611133      -0.376965       -0.855198\n3          -0.611133       1.124779       -0.132642\n4           1.636306      -1.378127       -1.577754",
      "text/html": "<div>\n<style scoped>\n    .dataframe tbody tr th:only-of-type {\n        vertical-align: middle;\n    }\n\n    .dataframe tbody tr th {\n        vertical-align: top;\n    }\n\n    .dataframe thead th {\n        text-align: right;\n    }\n</style>\n<table border=\"1\" class=\"dataframe\">\n  <thead>\n    <tr style=\"text-align: right;\">\n      <th></th>\n      <th>std_posting_month</th>\n      <th>std_dayofweek</th>\n      <th>std_diff_years</th>\n    </tr>\n  </thead>\n  <tbody>\n    <tr>\n      <th>0</th>\n      <td>-0.611133</td>\n      <td>1.124779</td>\n      <td>-1.397115</td>\n    </tr>\n    <tr>\n      <th>1</th>\n      <td>1.636306</td>\n      <td>-1.378127</td>\n      <td>-0.674559</td>\n    </tr>\n    <tr>\n      <th>2</th>\n      <td>-0.611133</td>\n      <td>-0.376965</td>\n      <td>-0.855198</td>\n    </tr>\n    <tr>\n      <th>3</th>\n      <td>-0.611133</td>\n      <td>1.124779</td>\n      <td>-0.132642</td>\n    </tr>\n    <tr>\n      <th>4</th>\n      <td>1.636306</td>\n      <td>-1.378127</td>\n      <td>-1.577754</td>\n    </tr>\n  </tbody>\n</table>\n</div>"
     },
     "execution_count": 114,
     "metadata": {},
     "output_type": "execute_result"
    }
   ],
   "source": [
    "# Стандартизируем созданные признаки\n",
    "new_features = ['posting_month', 'dayofweek', 'diff_years']\n",
    "std_scaler = StandardScaler()\n",
    "std_scaler.fit(df[new_features])\n",
    "std_scaled = std_scaler.transform(df[new_features])\n",
    "df[[f'std_{feature}' for feature in new_features]] = std_scaled\n",
    "df[[f'std_{feature}' for feature in new_features]].head()"
   ],
   "metadata": {
    "collapsed": false
   }
  },
  {
   "cell_type": "markdown",
   "source": [
    "## 2.1 Преобразование категориальных переменных"
   ],
   "metadata": {
    "collapsed": false
   }
  },
  {
   "cell_type": "code",
   "execution_count": 115,
   "outputs": [
    {
     "data": {
      "text/plain": "id                            9168\nurl                           9168\nregion                         387\nregion_url                     399\nprice                         2018\nyear                            28\nmanufacturer                    39\nmodel                         3129\nfuel                             6\nodometer                      6478\ntitle_status                     6\ntransmission                     3\nimage_url                     8284\ndescription                   9030\nstate                           50\nlat                           4623\nlong                          4652\nposting_date                  9094\nprice_category                   3\nage_category                     3\nmodel_len                       64\nmodel_word_count                21\ndescription_len                 64\ndescription_word_count          21\nshort_model                    830\nregion_new                     399\nregion_corrected               384\nodometer/price                8217\nyear_std                        28\nodometer_std                  6478\nlat_std                       4623\nlong_std                      4652\nmodel_len_std                   64\nmodel_word_count_std            21\ndescription_len_std             64\ndescription_word_count_std      21\nodometer/price_std            8217\nposting_month                    2\ndayofweek                        7\ndiff_years                      28\nstd_posting_month                2\nstd_dayofweek                    7\nstd_diff_years                  28\ndtype: int64"
     },
     "execution_count": 115,
     "metadata": {},
     "output_type": "execute_result"
    }
   ],
   "source": [
    "df.nunique()"
   ],
   "metadata": {
    "collapsed": false
   }
  },
  {
   "cell_type": "code",
   "execution_count": 116,
   "outputs": [],
   "source": [
    "# Определим категориальные переменные\n",
    "categorical_list = [\n",
    "    'price_category',\n",
    "    'short_model',\n",
    "    'transmission',\n",
    "    'region',\n",
    "    'manufacturer',\n",
    "    'state',\n",
    "    'title_status',\n",
    "    'fuel',\n",
    "    'title_status',\n",
    "    'age_category'\n",
    "]"
   ],
   "metadata": {
    "collapsed": false
   }
  },
  {
   "cell_type": "code",
   "execution_count": 117,
   "outputs": [
    {
     "data": {
      "text/plain": "OneHotEncoder(sparse=False)"
     },
     "execution_count": 117,
     "metadata": {},
     "output_type": "execute_result"
    }
   ],
   "source": [
    "# Сделаем one-hot кодирование категориальных переменных\n",
    "ohe = OneHotEncoder(sparse=False)\n",
    "ohe.fit(df[categorical_list])"
   ],
   "metadata": {
    "collapsed": false
   }
  },
  {
   "cell_type": "code",
   "execution_count": 118,
   "outputs": [
    {
     "data": {
      "text/plain": "array([[1., 0., 0., ..., 0., 1., 0.],\n       [0., 0., 1., ..., 0., 1., 0.],\n       [1., 0., 0., ..., 0., 1., 0.],\n       ...,\n       [0., 1., 0., ..., 1., 0., 0.],\n       [1., 0., 0., ..., 0., 1., 0.],\n       [1., 0., 0., ..., 0., 1., 0.]])"
     },
     "execution_count": 118,
     "metadata": {},
     "output_type": "execute_result"
    }
   ],
   "source": [
    "ohe_transformed = ohe.transform(df[categorical_list])\n",
    "ohe_transformed"
   ],
   "metadata": {
    "collapsed": false
   }
  },
  {
   "cell_type": "code",
   "execution_count": 119,
   "outputs": [
    {
     "data": {
      "text/plain": "[array(['high', 'low', 'medium'], dtype=object),\n array(['-benz', '1', '124', '128i', '135i', '1500', '163869', '198.5',\n        '1999', '2', '200', '2000', '2002', '2006', '2007', '2008', '2009',\n        '2012', '2015', '2016', '2017', '2018', '2021', '2500', '2500hd',\n        '3', '3-series', '3.2', '300', '300-series', '300c', '300s',\n        '320i', '323i', '325ci', '325i', '325xi', '328', '328ci', '328d',\n        '328i', '328xi', '330i', '330xi', '335i', '335xi', '350', '3500',\n        '3500hd', '350z', '370z', '3i', '4', '4-runner', '428', '430i',\n        '435i', '440xi', '4500', '4runner', '4x4', '5', '5-series', '500',\n        '500c', '500l', '500x', '525i', '528i', '528xi', '530', '530i',\n        '535i', '535xi', '540i', '545i', '5500', '5500hd', '550i', '6',\n        '640', '645ci', '650i', '650xi', '7', '750', '750i', '750xi', '86',\n        '911', 'ACURA*', 'ALL', 'Acuarea', 'BUY', 'Blue', 'Buicks', 'By',\n        'C', 'CHEVORLET', 'CLICK', 'CR-V', 'CX-5', 'Cemetery', 'Champion',\n        'Chevey', 'DODGE1500', 'E46', 'EASY', 'Eagle', 'Emergency',\n        'Enclave', 'Envision', 'F-150', 'F-250', 'F250', 'FORD*',\n        'FORD/RANGER', 'FREIGHTLINER', 'FRRV', 'Flexible', 'FordE350',\n        'Freightliner', 'Frtlner', 'GCM', 'GEHL', 'GMC,', 'GMX', 'GRAND',\n        'GULF', 'Genesis', 'Grand', 'Gx', 'HINO', 'HUMMER', 'Hino',\n        'Hobda', 'Hummer', 'IC', 'INTERNATIONAL', 'International', 'Isizu',\n        'Isuzu', 'JM1BK32F871604924', 'Janesville', 'Jauguar', 'Jayco',\n        'MASERATI', 'MERCUTY', 'MERDECES', 'MITUSBISHI', 'MV-1',\n        'Maserati', 'Minin', 'Nascar', 'OLDSMOBILE', 'PROGRAMS',\n        'Peterbilt', 'Pierce', 'Plymouth', 'QX', 'S60', 'SCION', 'SL',\n        'SPECIAL', 'Saab', 'Scion', 'Sea', 'Series', 'Sterling', 'Suzuki',\n        'THOMAS', 'Thomas', 'Town', 'Transit', 'Voltswagon', 'WOLF', 'Xx',\n        'a', 'a-class', 'a3', 'a3,', 'a4', 'a5', 'a6', 'a7', 'a8',\n        'acadia', 'accent', 'accord', 'all', 'allroad', 'altima', 'am',\n        'arcadia', 'armada', 'arteon', 'ascent', 'aspen', 'astra', 'astro',\n        'atlas', 'ats', 'aura', 'autobiography', 'avalanche', 'avalon',\n        'avanger', 'avenger', 'aveo', 'aviator', 'azera', 'aztek',\n        'b-class', 'b-series', 'b2300', 'baja', 'beetle', 'benz',\n        'blackwood', 'blazer', 'blue', 'bonneville', 'boxster', 'bronco',\n        'brz', 'bus', 'c', 'c-7500', 'c-class', 'c-hr', 'c-max', 'c/k',\n        'c250', 'c280', 'c300', 'c4500', 'c5500', 'c6500', 'c70', 'c8500',\n        'cabrio', 'caddilac', 'cadenza', 'cadia', 'caliber', 'camaro',\n        'camary', 'camero', 'camry', 'canyon', 'captiva', 'caravan',\n        'caravan/grand', 'cargo', 'cascada', 'cavalier', 'cayenne',\n        'cayman', 'cc', 'cc300', 'cc4500', 'century', 'certified',\n        'challenger', 'charger', 'cherokee', 'chryler', 'chysler', 'city',\n        'civic', 'cl-class', 'cla', 'cla-class', 'clarity', 'classic',\n        'classuc', 'clk', 'clk-class', 'clk350', 'cls-class', 'cls550',\n        'clubman', 'cmax', 'cobalt', 'colbalt', 'colorado', 'commander',\n        'compass', 'concorde', 'continental', 'convertible', 'cooper',\n        'corolla', 'corsair', 'corvette', 'cougar', 'countryman', 'cr-v',\n        'crew', 'crossfire', 'crosstour', 'crosstrek', 'crown', 'cruze',\n        'crv', 'crz', 'ct', 'ct4', 'ct5', 'ct6', 'cts', 'cts-v', 'cts4',\n        'cube', 'cvr', 'cx-3', 'cx-5', 'cx-7', 'cx-9', 'cx7', 'cx9',\n        'dakota', 'dart', 'davidson', 'dealer*', 'defender', 'deisel',\n        'denali', 'deville', 'diesel', 'discovery', 'dts', 'dump',\n        'duramax', 'durango', 'durangon', 'e', 'e-150', 'e-250', 'e-350',\n        'e-450', 'e-class', 'e-golf', 'e-pace', 'e-series', 'e150', 'e250',\n        'e320', 'e350', 'e450', 'e46', 'e500', 'echo', 'eclipse',\n        'econoline', 'ecosport', 'edge', 'elantra', 'eldorado', 'element',\n        'enclave', 'encore', 'endeavor', 'envision', 'envoy', 'eos',\n        'eqinox', 'equinox', 'es', 'es300', 'es330', 'es350', 'escalade',\n        'escape', 'escape-se,', 'escort', 'eurovan', 'evoque', 'excursion',\n        'expedition', 'explorer', 'express', 'f', 'f-150', 'f-250',\n        'f-250sd', 'f-350', 'f-350sd', 'f-450', 'f-450sd', 'f-550',\n        'f-650', 'f-750', 'f-pace', 'f-type', 'f150', 'f250', 'f350',\n        'f450', 'f450sd', 'f50', 'f550', 'f650', 'f700', 'f750', 'fe',\n        'fiesta', 'firebird', 'fit', 'five', 'fj', 'flex', 'focus',\n        'forester', 'forte', 'forte5', 'freestar', 'freestyle',\n        'freightliner', 'frontier', 'fusion', 'fuso', 'fx35', 'fx45', 'g',\n        'g-class', 'g.', 'g20', 'g35', 'g35x', 'g37', 'g37s', 'g37x',\n        'g4500', 'g5', 'g6', 'g8', 'galant', 'genesis', 'gl', 'gl-class',\n        'gl450', 'gla', 'gla-class', 'gladiator', 'glc', 'glc-class',\n        'gle', 'gle-class', 'glk', 'glk-class', 'glk350', 'gls',\n        'gmc/chev', 'gmce', 'gmt-400', 'golf', 'gr', 'grand', 'gs',\n        'gs350', 'gs430', 'gt', 'gt-r', 'gti', 'gto', 'gx', 'gx460',\n        'gx470', 'hardtop', 'hearse', 'hhr', 'hiace', 'high', 'highlander',\n        'hr-v', 'hse', 'hummer', 'hyndai', 'i-miev', 'i3', 'i30', 'i35',\n        'ierra', 'ilx', 'impala', 'impreza', 'insight', 'international',\n        'ion', 'ioniq', 'is', 'is250', 'is300', 'isf', 'isuzu', 'jetta',\n        'jimmy', 'jouney', 'journey', 'juke', 'jx35', 'k5', 'k900',\n        'kicks', 'kodiak', 'l', 'l300', 'lacrosse', 'lancer', 'land',\n        'leaf', 'legacy', 'lesabre', 'liberty', 'lifted', 'lightning',\n        'limousine', 'long', 'lr2', 'lr3', 'lr4', 'ls', 'lucerne', 'lx',\n        'lx450', 'm', 'm-class', 'm3', 'm35', 'm35s', 'm5', 'macan',\n        'magnum', 'malibu', 'mallinia', 'marineer,premier', 'mariner',\n        'mark', 'maserati', 'matrix', 'maxima', 'maximum', 'mazda2',\n        'mazda3', 'mazda5', 'mazda6', 'mazda6i', 'md-x', 'mdx', 'mercades',\n        'mercedes-amg', 'metris', 'miata', 'mighty', 'milan', 'mirage',\n        'mkc', 'mks', 'mkt', 'mkx', 'mkz', 'ml', 'ml350', 'ml500', 'model',\n        'monte', 'montero', 'mountaineer', 'mpv', 'murano', 'mustang',\n        'mx-5', 'n', 'nautilus', 'navigator', 'neon', 'new', 'niro',\n        'nitro', 'nv', 'nv1500', 'nv200', 'nv2500', 'nv2500hd', 'nx',\n        'nx300', 'oddyssey', 'odyssey', 'olet', 'optima', 'optimia',\n        'other', 'outback', 'outlander', 'outlook', 'paceman', 'pacifica',\n        'panamera', 'park', 'passat', 'passport', 'pathfinder', 'patriot',\n        'pickup', 'pilot', 'pontaic', 'prius', 'prizm', 'promaster',\n        'protege', 'pt', 'putback', 'q3', 'q5', 'q50', 'q60', 'q7', 'q70',\n        'quattro', 'quest', 'qx50', 'qx56', 'qx60', 'qx70', 'qx80',\n        'r-class', 'r32', 'rabbit', 'rainier', 'ram1500', 'ram2500',\n        'range', 'ranger', 'rav4', 'rc', 'rdx', 'rebel', 'regal',\n        'rendezvous', 'renegade', 'ridgeline', 'rio', 'rivera', 'riviera',\n        'rl', 'rlx', 'roadmaster', 'roadster', 'rogue', 'romeo', 'rondo',\n        'rouge', 'routan', 'rs', 'rsx', 'rx', 'rx-8', 'rx300', 'rx330',\n        'rx350', 'rx400h', 'rx8', 's', 's-10', 's-class', 's10', 's2000',\n        's3', 's320', 's4', 's40', 's430', 's5', 's500', 's6', 's60', 's7',\n        's70', 's8', 's90', 'saab', 'sable', 'santa', 'sante', 'savana',\n        'sc', 'sc2', 'sc300', 'scion', 'sebring', 'sedan', 'sedona',\n        'seirra', 'sentra', 'sequoia', 'seville', 'sienna', 'sierra',\n        'sierra1500', 'silverado', 'sky', 'skylark', 'sl-class', 'sl2',\n        'sl500', 'sl55', 'sl550', 'slc', 'slk', 'slk-class', 'slt',\n        'smart', 'solara', 'solstice', 'sonata', 'sonic', 'sonoma',\n        'sorento', 'sorrento', 'soul', 'soul+', 'spark', 'spectra',\n        'sport', 'sportage', 'sprinter', 'srx', 'srx-v6', 'srx4',\n        'srx~awesome', 'ss', 'ssr', 'starcraft', 'stinger', 'stratus',\n        'sts', 'suburban', 'super', 'suv', 'suzuki', 't', 't-350',\n        'tacoma', 'tahoe', 'tarsus', 'taurus', 'tc5500', 'telluride',\n        'tercel', 'terrain', 'thomas', 'thunderbird', 'tiguan', 'titan',\n        'tl', 'tlx', 'torrent', 'touareg', 'town', 'tracker', 'tractor',\n        'trailblazer', 'transit', 'traverse', 'trax', 'tribeca', 'tribute',\n        'truck', 'tsx', 'tt', 'tucson', 'tundra', 'u', 'uplander',\n        'utility', 'ux', 'v50', 'v6', 'v60', 'v90', 'van', 'velar',\n        'veloster', 'venture', 'venza', 'veracruz', 'verano', 'versa',\n        'vibe', 'villager', 'vnl', 'volt', 'voyager', 'vtx1300c', 'vue',\n        'windstar', 'wrangler', 'wrx', 'x-3', 'x-type', 'x1', 'x2', 'x3',\n        'x4', 'x5', 'x6', 'xc40', 'xc60', 'xc70', 'xc90', 'xe', 'xf', 'xj',\n        'xj-series', 'xj8', 'xk8', 'xt4', 'xt5', 'xt6', 'xterra', 'xts',\n        'xv', 'yaris', 'yukon', 'z', 'z3', 'z4', 'zephyr', 'zx2'],\n       dtype=object),\n array(['automatic', 'manual', 'other'], dtype=object),\n array(['SF bay area', 'abilene', 'akron / canton', 'albany',\n        'albuquerque', 'altoona-johnstown', 'amarillo', 'ames',\n        'anchorage / mat-su', 'ann arbor', 'annapolis',\n        'appleton-oshkosh-FDL', 'asheville', 'ashtabula', 'athens',\n        'atlanta', 'auburn', 'augusta', 'austin', 'bakersfield',\n        'baltimore', 'baton rouge', 'battle creek',\n        'beaumont / port arthur', 'bellingham', 'bemidji', 'bend',\n        'billings', 'binghamton', 'birmingham', 'bismarck', 'bloomington',\n        'bloomington-normal', 'boise', 'boone', 'boston', 'boulder',\n        'bowling green', 'bozeman', 'brainerd', 'brownsville', 'brunswick',\n        'buffalo', 'butte', 'cape cod / islands', 'catskills',\n        'cedar rapids', 'central NJ', 'central louisiana',\n        'central michigan', 'champaign urbana', 'charleston', 'charlotte',\n        'charlottesville', 'chattanooga', 'chautauqua', 'chicago', 'chico',\n        'chillicothe', 'cincinnati', 'clarksville', 'cleveland',\n        'clovis / portales', 'college station', 'colorado springs',\n        'columbia', 'columbia / jeff city', 'columbus', 'corpus christi',\n        'corvallis/albany', 'cumberland valley', 'dallas / fort worth',\n        'danville', 'dayton / springfield', 'daytona beach', 'decatur',\n        'del rio / eagle pass', 'delaware', 'denver', 'des moines',\n        'detroit metro', 'dothan', 'dubuque', 'duluth / superior',\n        'east idaho', 'east oregon', 'eastern CO', 'eastern CT',\n        'eastern NC', 'eastern kentucky', 'eastern montana',\n        'eastern panhandle', 'eastern shore', 'eau claire', 'el paso',\n        'elko', 'elmira-corning', 'erie', 'eugene', 'evansville',\n        'fargo / moorhead', 'farmington', 'fayetteville', 'finger lakes',\n        'flagstaff / sedona', 'flint', 'florence',\n        'florence / muscle shoals', 'florida keys',\n        'fort collins / north CO', 'fort dodge', 'fort smith',\n        'fort wayne', 'frederick', 'fredericksburg', 'fresno / madera',\n        'ft myers / SW florida', 'gadsden-anniston', 'gainesville',\n        'galveston', 'glens falls', 'gold country', 'grand forks',\n        'grand island', 'grand rapids', 'great falls', 'green bay',\n        'greensboro', 'greenville / upstate', 'gulfport / biloxi',\n        'hanford-corcoran', 'harrisburg', 'harrisonburg', 'hartford',\n        'hattiesburg', 'heartland florida', 'helena', 'hickory / lenoir',\n        'high rockies', 'hilton head', 'holland', 'houma', 'houston',\n        'hudson valley', 'humboldt county', 'huntington-ashland',\n        'huntsville / decatur', 'imperial county', 'indianapolis',\n        'inland empire', 'iowa city', 'ithaca', 'jackson', 'jacksonville',\n        'janesville', 'jersey shore', 'jonesboro', 'joplin', 'kalamazoo',\n        'kalispell', 'kansas city, MO', 'kennewick-pasco-richland',\n        'kenosha-racine', 'killeen / temple / ft hood', 'kirksville',\n        'klamath falls', 'knoxville', 'kokomo', 'la crosse', 'la salle co',\n        'lafayette', 'lafayette / west lafayette', 'lake charles',\n        'lake of the ozarks', 'lakeland', 'lancaster', 'lansing', 'laredo',\n        'las cruces', 'las vegas', 'lawrence', 'lawton', 'lehigh valley',\n        'lewiston / clarkston', 'lexington', 'lima / findlay', 'lincoln',\n        'little rock', 'logan', 'long island', 'los angeles', 'louisville',\n        'lubbock', 'lynchburg', 'macon / warner robins', 'madison',\n        'maine', 'manhattan', 'mankato', 'mansfield', 'mason city',\n        'mattoon-charleston', 'mcallen / edinburg', 'meadville',\n        'medford-ashland', 'memphis', 'mendocino county', 'merced',\n        'milwaukee', 'minneapolis / st paul', 'missoula', 'mobile',\n        'modesto', 'mohave county', 'monroe', 'monterey bay', 'montgomery',\n        'morgantown', 'moses lake', 'muncie / anderson', 'muskegon',\n        'myrtle beach', 'nashville', 'new hampshire', 'new haven',\n        'new orleans', 'new river valley', 'new york city',\n        'norfolk / hampton roads', 'north central FL', 'north dakota',\n        'north jersey', 'north mississippi', 'north platte',\n        'northeast SD', 'northern WI', 'northern michigan',\n        'northern panhandle', 'northwest CT', 'northwest GA',\n        'northwest KS', 'northwest OK', 'ocala', 'odessa / midland',\n        'ogden-clearfield', 'okaloosa / walton', 'oklahoma city',\n        'olympic peninsula', 'omaha / council bluffs', 'oneonta',\n        'orange county', 'oregon coast', 'orlando', 'outer banks',\n        'owensboro', 'palm springs', 'panama city', 'parkersburg-marietta',\n        'pensacola', 'peoria', 'philadelphia', 'phoenix', 'pittsburgh',\n        'plattsburgh-adirondacks', 'poconos', 'port huron', 'portland',\n        'potsdam-canton-massena', 'prescott', 'pueblo', 'pullman / moscow',\n        'quad cities, IA/IL', 'raleigh / durham / CH',\n        'rapid city / west SD', 'reading', 'redding', 'reno / tahoe',\n        'rhode island', 'richmond', 'roanoke', 'rochester', 'rockford',\n        'roseburg', 'roswell / carlsbad', 'sacramento',\n        'saginaw-midland-baycity', 'salem', 'salina', 'salt lake city',\n        'san angelo', 'san antonio', 'san diego', 'san luis obispo',\n        'san marcos', 'sandusky', 'santa barbara', 'santa fe / taos',\n        'santa maria', 'sarasota-bradenton', 'savannah / hinesville',\n        'scottsbluff / panhandle', 'scranton / wilkes-barre',\n        'seattle-tacoma', 'sheboygan', 'show low', 'shreveport',\n        'sierra vista', 'sioux city', 'sioux falls / SE SD',\n        'siskiyou county', 'skagit / island / SJI',\n        'south bend / michiana', 'south coast', 'south dakota',\n        'south florida', 'south jersey', 'southeast IA',\n        'southeast missouri', 'southern illinois', 'southern maryland',\n        'southwest KS', 'southwest MN', 'southwest MS', 'southwest VA',\n        'southwest michigan', 'space coast', \"spokane / coeur d'alene\",\n        'springfield', 'st augustine', 'st cloud', 'st george',\n        'st joseph', 'st louis, MO', 'state college', 'statesboro',\n        'stillwater', 'stockton', 'susanville', 'syracuse', 'tallahassee',\n        'tampa bay area', 'terre haute', 'texarkana', 'texoma',\n        'the thumb', 'toledo', 'topeka', 'treasure coast', 'tri-cities',\n        'tucson', 'tulsa', 'tuscaloosa', 'tuscarawas co', 'twin falls',\n        'twin tiers NY/PA', 'tyler / east TX', 'upper peninsula',\n        'utica-rome-oneida', 'valdosta', 'ventura county', 'vermont',\n        'victoria', 'visalia-tulare', 'waco', 'washington, DC',\n        'waterloo / cedar falls', 'watertown', 'wausau', 'wenatchee',\n        'western KY', 'western maryland', 'western massachusetts',\n        'western slope', 'wichita', 'wichita falls', 'williamsport',\n        'wilmington', 'winchester', 'winston-salem',\n        'worcester / central MA', 'wyoming', 'yakima', 'york',\n        'youngstown', 'yuba-sutter', 'yuma', 'zanesville / cambridge'],\n       dtype=object),\n array(['acura', 'alfa-romeo', 'audi', 'bmw', 'buick', 'cadillac',\n        'chevrolet', 'chrysler', 'dodge', 'ferrari', 'fiat', 'ford', 'gmc',\n        'harley-davidson', 'honda', 'hyundai', 'infiniti', 'jaguar',\n        'jeep', 'kia', 'lexus', 'lincoln', 'mazda', 'mercedes-benz',\n        'mercury', 'mini', 'mitsubishi', 'nissan', 'other', 'pontiac',\n        'porsche', 'ram', 'rover', 'saturn', 'subaru', 'tesla', 'toyota',\n        'volkswagen', 'volvo'], dtype=object),\n array(['ak', 'al', 'ar', 'az', 'ca', 'co', 'ct', 'dc', 'de', 'fl', 'ga',\n        'ia', 'id', 'il', 'in', 'ks', 'ky', 'la', 'ma', 'md', 'me', 'mi',\n        'mn', 'mo', 'ms', 'mt', 'nc', 'nd', 'ne', 'nh', 'nj', 'nm', 'nv',\n        'ny', 'oh', 'ok', 'or', 'pa', 'ri', 'sc', 'sd', 'tn', 'tx', 'ut',\n        'va', 'vt', 'wa', 'wi', 'wv', 'wy'], dtype=object),\n array(['clean', 'lien', 'missing', 'parts only', 'rebuilt', 'salvage'],\n       dtype=object),\n array(['diesel', 'electric', 'gas', 'hybrid', 'other', 'unknown'],\n       dtype=object),\n array(['clean', 'lien', 'missing', 'parts only', 'rebuilt', 'salvage'],\n       dtype=object),\n array(['average', 'new', 'old'], dtype=object)]"
     },
     "execution_count": 119,
     "metadata": {},
     "output_type": "execute_result"
    }
   ],
   "source": [
    "ohe.categories_"
   ],
   "metadata": {
    "collapsed": false
   }
  },
  {
   "cell_type": "code",
   "execution_count": 120,
   "outputs": [
    {
     "data": {
      "text/plain": "array(['x0_high', 'x0_low', 'x0_medium', ..., 'x9_average', 'x9_new',\n       'x9_old'], dtype=object)"
     },
     "execution_count": 120,
     "metadata": {},
     "output_type": "execute_result"
    }
   ],
   "source": [
    "categorical_feature_names = ohe.get_feature_names()\n",
    "categorical_feature_names"
   ],
   "metadata": {
    "collapsed": false
   }
  },
  {
   "cell_type": "code",
   "execution_count": 121,
   "outputs": [
    {
     "name": "stderr",
     "output_type": "stream",
     "text": [
      "C:\\Users\\ilapr\\anaconda3\\lib\\site-packages\\pandas\\core\\frame.py:3678: PerformanceWarning: DataFrame is highly fragmented.  This is usually the result of calling `frame.insert` many times, which has poor performance.  Consider joining all columns at once using pd.concat(axis=1) instead.  To get a de-fragmented frame, use `newframe = frame.copy()`\n",
      "  self[col] = igetitem(value, i)\n"
     ]
    }
   ],
   "source": [
    "# Сохраним преобразованные категориальные переменные\n",
    "df[categorical_feature_names] = ohe_transformed"
   ],
   "metadata": {
    "collapsed": false
   }
  },
  {
   "cell_type": "markdown",
   "source": [
    "## 2.6 Удаление не информативных колонок"
   ],
   "metadata": {
    "collapsed": false
   }
  },
  {
   "cell_type": "code",
   "execution_count": 122,
   "outputs": [
    {
     "data": {
      "text/plain": "id                                          int64\nurl                                        object\nregion                                     object\nregion_url                                 object\nprice                                       int64\nyear                                        int32\nmanufacturer                               object\nmodel                                      object\nfuel                                       object\nodometer                                    int64\ntitle_status                               object\ntransmission                               object\nimage_url                                  object\ndescription                                object\nstate                                      object\nlat                                       float64\nlong                                      float64\nposting_date                  datetime64[ns, UTC]\nprice_category                             object\nage_category                               object\nmodel_len                                   int64\nmodel_word_count                            int64\ndescription_len                             int64\ndescription_word_count                      int64\nshort_model                                object\nregion_new                                 object\nregion_corrected                           object\nodometer/price                            float64\nyear_std                                  float64\nodometer_std                              float64\nlat_std                                   float64\nlong_std                                  float64\nmodel_len_std                             float64\nmodel_word_count_std                      float64\ndescription_len_std                       float64\ndescription_word_count_std                float64\nodometer/price_std                        float64\nposting_month                               int64\ndayofweek                                   int64\ndiff_years                                  int64\nstd_posting_month                         float64\nstd_dayofweek                             float64\nstd_diff_years                            float64\ndtype: object"
     },
     "execution_count": 122,
     "metadata": {},
     "output_type": "execute_result"
    }
   ],
   "source": [
    "# Выведем типы всех переменных кроме закодированных категориальных\n",
    "df.dtypes.drop(categorical_feature_names)"
   ],
   "metadata": {
    "collapsed": false
   }
  },
  {
   "cell_type": "code",
   "execution_count": 123,
   "outputs": [
    {
     "data": {
      "text/plain": "id                            9168\nurl                           9168\nregion                         387\nregion_url                     399\nprice                         2018\nyear                            28\nmanufacturer                    39\nmodel                         3129\nfuel                             6\nodometer                      6478\ntitle_status                     6\ntransmission                     3\nimage_url                     8284\ndescription                   9030\nstate                           50\nlat                           4623\nlong                          4652\nposting_date                  9094\nprice_category                   3\nage_category                     3\nmodel_len                       64\nmodel_word_count                21\ndescription_len                 64\ndescription_word_count          21\nshort_model                    830\nregion_new                     399\nregion_corrected               384\nodometer/price                8217\nyear_std                        28\nodometer_std                  6478\nlat_std                       4623\nlong_std                      4652\nmodel_len_std                   64\nmodel_word_count_std            21\ndescription_len_std             64\ndescription_word_count_std      21\nodometer/price_std            8217\nposting_month                    2\ndayofweek                        7\ndiff_years                      28\nstd_posting_month                2\nstd_dayofweek                    7\nstd_diff_years                  28\ndtype: int64"
     },
     "execution_count": 123,
     "metadata": {},
     "output_type": "execute_result"
    }
   ],
   "source": [
    "# Проверим количество уникальных переменных в каждом из них\n",
    "df.drop(categorical_feature_names, axis=1).nunique()"
   ],
   "metadata": {
    "collapsed": false
   }
  },
  {
   "cell_type": "code",
   "execution_count": 124,
   "outputs": [],
   "source": [
    "# Удалим ненужные признаки\n",
    "\n",
    "columns_for_drop = [\n",
    "    # Переработанные строки\n",
    "    'url', 'region', 'region_url', 'image_url', 'description',\n",
    "    'state',\n",
    "    # Стандартизированные\n",
    "    'year', 'odometer', 'lat', 'long', 'odometer/price', 'posting_month',\n",
    "    'model_len', 'model_word_count', 'description_len', 'description_word_count',\n",
    "    # Переработанные из строк в число\n",
    "    'model', 'description',\n",
    "    # Переработанные из даты в число\n",
    "    'posting_date',\n",
    "    # Другие\n",
    "    'manufacturer', 'age_category', 'region_new',\n",
    "    'region_corrected',\n",
    "    'dayofweek', 'diff_years'\n",
    "]\n",
    "\n",
    "columns_for_drop.extend(categorical_list)\n",
    "columns_for_drop.remove('price_category')"
   ],
   "metadata": {
    "collapsed": false
   }
  },
  {
   "cell_type": "code",
   "execution_count": 125,
   "outputs": [],
   "source": [
    "df = df.drop(columns_for_drop, axis=1)"
   ],
   "metadata": {
    "collapsed": false
   }
  },
  {
   "cell_type": "code",
   "execution_count": 126,
   "outputs": [
    {
     "data": {
      "text/plain": "id                              int64\nprice                           int64\nprice_category                 object\nyear_std                      float64\nodometer_std                  float64\nlat_std                       float64\nlong_std                      float64\nmodel_len_std                 float64\nmodel_word_count_std          float64\ndescription_len_std           float64\ndescription_word_count_std    float64\nodometer/price_std            float64\nstd_posting_month             float64\nstd_dayofweek                 float64\nstd_diff_years                float64\ndtype: object"
     },
     "execution_count": 126,
     "metadata": {},
     "output_type": "execute_result"
    }
   ],
   "source": [
    "df.drop(categorical_feature_names, axis=1).dtypes"
   ],
   "metadata": {
    "collapsed": false
   }
  },
  {
   "cell_type": "code",
   "execution_count": 127,
   "outputs": [
    {
     "data": {
      "text/plain": "(9168, 1348)"
     },
     "execution_count": 127,
     "metadata": {},
     "output_type": "execute_result"
    }
   ],
   "source": [
    "df.shape"
   ],
   "metadata": {
    "collapsed": false
   }
  },
  {
   "cell_type": "code",
   "execution_count": 128,
   "outputs": [],
   "source": [
    "# Сохраним датафрейм\n",
    "df.to_csv('data/df_out_for_modelling.csv')"
   ],
   "metadata": {
    "collapsed": false
   }
  },
  {
   "cell_type": "markdown",
   "source": [
    "# 3 Modelling\n",
    "## 3.1 Подготовка данных"
   ],
   "metadata": {
    "collapsed": false
   }
  },
  {
   "cell_type": "code",
   "execution_count": 129,
   "outputs": [
    {
     "data": {
      "text/plain": "   Unnamed: 0          id  price price_category  year_std  odometer_std  \\\n0           0  7308295377  54990           high  1.397115     -1.085954   \n1           1  7316380095  16942         medium  0.674559     -0.567796   \n2           2  7313733749  35590           high  0.855198     -1.298967   \n3           3  7308210929  14500         medium  0.132642      0.342975   \n4           4  7316474668  21800         medium  1.577754     -1.395153   \n\n    lat_std  long_std  model_len_std  model_word_count_std  ...  x7_unknown  \\\n0 -0.660055  0.473589       1.141467              1.877089  ...         0.0   \n1  0.452405  1.156490       0.911874              1.207525  ...         1.0   \n2 -0.907342  0.524751       0.452688              0.537960  ...         0.0   \n3 -0.533407  0.876119      -0.924871             -0.801170  ...         0.0   \n4  0.420161  1.184095      -0.695278             -0.801170  ...         0.0   \n\n   x8_clean  x8_lien  x8_missing  x8_parts only  x8_rebuilt  x8_salvage  \\\n0       1.0      0.0         0.0            0.0         0.0         0.0   \n1       1.0      0.0         0.0            0.0         0.0         0.0   \n2       1.0      0.0         0.0            0.0         0.0         0.0   \n3       1.0      0.0         0.0            0.0         0.0         0.0   \n4       1.0      0.0         0.0            0.0         0.0         0.0   \n\n   x9_average  x9_new  x9_old  \n0         0.0     1.0     0.0  \n1         0.0     1.0     0.0  \n2         0.0     1.0     0.0  \n3         1.0     0.0     0.0  \n4         0.0     1.0     0.0  \n\n[5 rows x 1349 columns]",
      "text/html": "<div>\n<style scoped>\n    .dataframe tbody tr th:only-of-type {\n        vertical-align: middle;\n    }\n\n    .dataframe tbody tr th {\n        vertical-align: top;\n    }\n\n    .dataframe thead th {\n        text-align: right;\n    }\n</style>\n<table border=\"1\" class=\"dataframe\">\n  <thead>\n    <tr style=\"text-align: right;\">\n      <th></th>\n      <th>Unnamed: 0</th>\n      <th>id</th>\n      <th>price</th>\n      <th>price_category</th>\n      <th>year_std</th>\n      <th>odometer_std</th>\n      <th>lat_std</th>\n      <th>long_std</th>\n      <th>model_len_std</th>\n      <th>model_word_count_std</th>\n      <th>...</th>\n      <th>x7_unknown</th>\n      <th>x8_clean</th>\n      <th>x8_lien</th>\n      <th>x8_missing</th>\n      <th>x8_parts only</th>\n      <th>x8_rebuilt</th>\n      <th>x8_salvage</th>\n      <th>x9_average</th>\n      <th>x9_new</th>\n      <th>x9_old</th>\n    </tr>\n  </thead>\n  <tbody>\n    <tr>\n      <th>0</th>\n      <td>0</td>\n      <td>7308295377</td>\n      <td>54990</td>\n      <td>high</td>\n      <td>1.397115</td>\n      <td>-1.085954</td>\n      <td>-0.660055</td>\n      <td>0.473589</td>\n      <td>1.141467</td>\n      <td>1.877089</td>\n      <td>...</td>\n      <td>0.0</td>\n      <td>1.0</td>\n      <td>0.0</td>\n      <td>0.0</td>\n      <td>0.0</td>\n      <td>0.0</td>\n      <td>0.0</td>\n      <td>0.0</td>\n      <td>1.0</td>\n      <td>0.0</td>\n    </tr>\n    <tr>\n      <th>1</th>\n      <td>1</td>\n      <td>7316380095</td>\n      <td>16942</td>\n      <td>medium</td>\n      <td>0.674559</td>\n      <td>-0.567796</td>\n      <td>0.452405</td>\n      <td>1.156490</td>\n      <td>0.911874</td>\n      <td>1.207525</td>\n      <td>...</td>\n      <td>1.0</td>\n      <td>1.0</td>\n      <td>0.0</td>\n      <td>0.0</td>\n      <td>0.0</td>\n      <td>0.0</td>\n      <td>0.0</td>\n      <td>0.0</td>\n      <td>1.0</td>\n      <td>0.0</td>\n    </tr>\n    <tr>\n      <th>2</th>\n      <td>2</td>\n      <td>7313733749</td>\n      <td>35590</td>\n      <td>high</td>\n      <td>0.855198</td>\n      <td>-1.298967</td>\n      <td>-0.907342</td>\n      <td>0.524751</td>\n      <td>0.452688</td>\n      <td>0.537960</td>\n      <td>...</td>\n      <td>0.0</td>\n      <td>1.0</td>\n      <td>0.0</td>\n      <td>0.0</td>\n      <td>0.0</td>\n      <td>0.0</td>\n      <td>0.0</td>\n      <td>0.0</td>\n      <td>1.0</td>\n      <td>0.0</td>\n    </tr>\n    <tr>\n      <th>3</th>\n      <td>3</td>\n      <td>7308210929</td>\n      <td>14500</td>\n      <td>medium</td>\n      <td>0.132642</td>\n      <td>0.342975</td>\n      <td>-0.533407</td>\n      <td>0.876119</td>\n      <td>-0.924871</td>\n      <td>-0.801170</td>\n      <td>...</td>\n      <td>0.0</td>\n      <td>1.0</td>\n      <td>0.0</td>\n      <td>0.0</td>\n      <td>0.0</td>\n      <td>0.0</td>\n      <td>0.0</td>\n      <td>1.0</td>\n      <td>0.0</td>\n      <td>0.0</td>\n    </tr>\n    <tr>\n      <th>4</th>\n      <td>4</td>\n      <td>7316474668</td>\n      <td>21800</td>\n      <td>medium</td>\n      <td>1.577754</td>\n      <td>-1.395153</td>\n      <td>0.420161</td>\n      <td>1.184095</td>\n      <td>-0.695278</td>\n      <td>-0.801170</td>\n      <td>...</td>\n      <td>0.0</td>\n      <td>1.0</td>\n      <td>0.0</td>\n      <td>0.0</td>\n      <td>0.0</td>\n      <td>0.0</td>\n      <td>0.0</td>\n      <td>0.0</td>\n      <td>1.0</td>\n      <td>0.0</td>\n    </tr>\n  </tbody>\n</table>\n<p>5 rows × 1349 columns</p>\n</div>"
     },
     "execution_count": 129,
     "metadata": {},
     "output_type": "execute_result"
    }
   ],
   "source": [
    "df = pd.read_csv('data/df_out_for_modelling.csv')\n",
    "df.head()"
   ],
   "metadata": {
    "collapsed": false
   }
  },
  {
   "cell_type": "code",
   "execution_count": 130,
   "outputs": [
    {
     "data": {
      "text/plain": "(9168, 1349)"
     },
     "execution_count": 130,
     "metadata": {},
     "output_type": "execute_result"
    }
   ],
   "source": [
    "df.shape"
   ],
   "metadata": {
    "collapsed": false
   }
  },
  {
   "cell_type": "code",
   "execution_count": 131,
   "outputs": [],
   "source": [
    "# Jтелем от данных целевую переменную\n",
    "x_vars = list(df.columns)\n",
    "x_vars.remove('price_category')\n",
    "\n",
    "x = df[x_vars]\n",
    "y = df['price_category']"
   ],
   "metadata": {
    "collapsed": false
   }
  },
  {
   "cell_type": "code",
   "execution_count": 132,
   "outputs": [],
   "source": [
    "# Разделим данные на тренировочные и тестовые\n",
    "x_train, x_test, y_train, y_test = train_test_split(x, y, train_size=0.7)"
   ],
   "metadata": {
    "collapsed": false
   }
  },
  {
   "cell_type": "markdown",
   "source": [
    "## 3.2 Проверка модели логистической регрессии"
   ],
   "metadata": {
    "collapsed": false
   }
  },
  {
   "cell_type": "code",
   "execution_count": 133,
   "outputs": [
    {
     "data": {
      "text/plain": "LogisticRegression(random_state=42)"
     },
     "execution_count": 133,
     "metadata": {},
     "output_type": "execute_result"
    }
   ],
   "source": [
    "# Инициализируем модель логистической регрессии\n",
    "logreg = LogisticRegression(random_state=42)\n",
    "logreg.fit(x_train, y_train)"
   ],
   "metadata": {
    "collapsed": false
   }
  },
  {
   "cell_type": "code",
   "execution_count": 134,
   "outputs": [
    {
     "data": {
      "text/plain": "0.3456924754634678"
     },
     "execution_count": 134,
     "metadata": {},
     "output_type": "execute_result"
    }
   ],
   "source": [
    "# Проверим модель на тестовых данных\n",
    "y_prediction = logreg.predict(x_test)\n",
    "accuracy_score(y_test, y_prediction)"
   ],
   "metadata": {
    "collapsed": false
   }
  },
  {
   "cell_type": "code",
   "execution_count": 135,
   "outputs": [],
   "source": [
    "# Проверим модель с помощью кросс-валидации\n",
    "cv_score = cross_val_score(logreg, x, y, cv=5)"
   ],
   "metadata": {
    "collapsed": false
   }
  },
  {
   "cell_type": "code",
   "execution_count": 136,
   "outputs": [
    {
     "data": {
      "text/plain": "(0.3403141604213555, 0.0001)"
     },
     "execution_count": 136,
     "metadata": {},
     "output_type": "execute_result"
    }
   ],
   "source": [
    "cv_score.mean(), round(cv_score.std(), 4)"
   ],
   "metadata": {
    "collapsed": false
   }
  },
  {
   "cell_type": "markdown",
   "source": [
    "## 3.3 Проверка модели случайного леса"
   ],
   "metadata": {
    "collapsed": false
   }
  },
  {
   "cell_type": "code",
   "execution_count": 137,
   "outputs": [
    {
     "data": {
      "text/plain": "RandomForestClassifier(random_state=42)"
     },
     "execution_count": 137,
     "metadata": {},
     "output_type": "execute_result"
    }
   ],
   "source": [
    "# Инициализируем модель случайного леса\n",
    "rforest = RandomForestClassifier(random_state=42)\n",
    "rforest.fit(x_train, y_train)"
   ],
   "metadata": {
    "collapsed": false
   }
  },
  {
   "cell_type": "code",
   "execution_count": 138,
   "outputs": [
    {
     "data": {
      "text/plain": "1.0"
     },
     "execution_count": 138,
     "metadata": {},
     "output_type": "execute_result"
    }
   ],
   "source": [
    "# Проверим модель на тестовых данных\n",
    "y_prediction = rforest.predict(x_test)\n",
    "accuracy_score(y_test, y_prediction)"
   ],
   "metadata": {
    "collapsed": false
   }
  },
  {
   "cell_type": "code",
   "execution_count": 139,
   "outputs": [],
   "source": [
    "# Проверим модель с помощью кросс-валидации\n",
    "cv_score = cross_val_score(rforest, x, y, cv=5)"
   ],
   "metadata": {
    "collapsed": false
   }
  },
  {
   "cell_type": "code",
   "execution_count": 140,
   "outputs": [
    {
     "data": {
      "text/plain": "(1.0, 0.0)"
     },
     "execution_count": 140,
     "metadata": {},
     "output_type": "execute_result"
    }
   ],
   "source": [
    "cv_score.mean(), cv_score.std()"
   ],
   "metadata": {
    "collapsed": false
   }
  },
  {
   "cell_type": "markdown",
   "source": [
    "## 3.4 Проверка модели многослойного персептрона"
   ],
   "metadata": {
    "collapsed": false
   }
  },
  {
   "cell_type": "code",
   "execution_count": 141,
   "outputs": [
    {
     "data": {
      "text/plain": "MLPClassifier(random_state=42)"
     },
     "execution_count": 141,
     "metadata": {},
     "output_type": "execute_result"
    }
   ],
   "source": [
    "# Инициализируем модель многослойного персептрона\n",
    "mlpc = MLPClassifier(random_state=42)\n",
    "mlpc.fit(x_train, y_train)"
   ],
   "metadata": {
    "collapsed": false
   }
  },
  {
   "cell_type": "code",
   "execution_count": 142,
   "outputs": [
    {
     "data": {
      "text/plain": "0.3227917121046892"
     },
     "execution_count": 142,
     "metadata": {},
     "output_type": "execute_result"
    }
   ],
   "source": [
    "# Проверим модель на тестовых данных\n",
    "y_prediction = mlpc.predict(x_test)\n",
    "accuracy_score(y_test, y_prediction)"
   ],
   "metadata": {
    "collapsed": false
   }
  },
  {
   "cell_type": "code",
   "execution_count": 143,
   "outputs": [],
   "source": [
    "# Проверим модель с помощью кросс-валидации\n",
    "cv_score = cross_val_score(mlpc, x, y, cv=5)"
   ],
   "metadata": {
    "collapsed": false
   }
  },
  {
   "cell_type": "code",
   "execution_count": 144,
   "outputs": [
    {
     "data": {
      "text/plain": "(0.33267819290232803, 0.004182914376946644)"
     },
     "execution_count": 144,
     "metadata": {},
     "output_type": "execute_result"
    }
   ],
   "source": [
    "cv_score.mean(), cv_score.std()"
   ],
   "metadata": {
    "collapsed": false
   }
  },
  {
   "cell_type": "markdown",
   "source": [
    "# 4 Results\n",
    "\n",
    "Большая точность у модели случайного леса и составляет 100% на тестовых данных"
   ],
   "metadata": {
    "collapsed": false
   }
  },
  {
   "cell_type": "code",
   "execution_count": 145,
   "outputs": [
    {
     "data": {
      "text/plain": "RandomForestClassifier(random_state=42)"
     },
     "execution_count": 145,
     "metadata": {},
     "output_type": "execute_result"
    }
   ],
   "source": [
    "# Обучим модель случайного леса на всех данных\n",
    "final_rforest = RandomForestClassifier(random_state=42)\n",
    "final_rforest.fit(x, y)"
   ],
   "metadata": {
    "collapsed": false
   }
  },
  {
   "cell_type": "code",
   "execution_count": 147,
   "outputs": [],
   "source": [
    "# Сохраним модель с помощью pickle\n",
    "with open('model.pickle', 'wb') as file:\n",
    "    pickle.dump(final_rforest, file)"
   ],
   "metadata": {
    "collapsed": false
   }
  }
 ],
 "metadata": {
  "kernelspec": {
   "display_name": "Python 3",
   "language": "python",
   "name": "python3"
  },
  "language_info": {
   "codemirror_mode": {
    "name": "ipython",
    "version": 2
   },
   "file_extension": ".py",
   "mimetype": "text/x-python",
   "name": "python",
   "nbconvert_exporter": "python",
   "pygments_lexer": "ipython2",
   "version": "2.7.6"
  }
 },
 "nbformat": 4,
 "nbformat_minor": 0
}
